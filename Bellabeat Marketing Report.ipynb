{
 "cells": [
  {
   "cell_type": "markdown",
   "id": "09ba3cea",
   "metadata": {},
   "source": [
    "## Introduction"
   ]
  },
  {
   "cell_type": "markdown",
   "id": "2556673c",
   "metadata": {},
   "source": [
    "**[Bellabeat](https://bellabeat.com/)** is a high-tech company that manufactures health-focused smart products for women founded by Urška Sršen and Sando Mur in 2013. Bellabeat empowers women with knowledge about their own health and habits using data about their activity, sleep, stress, and reproductive health.\n",
    "\n",
    "They offer the following products:\n",
    "\n",
    "- **Bellabeat app**: The Bellabeat app provides users with health data related to their activity, sleep, stress,\n",
    "menstrual cycle, and mindfulness habits. This data can help users better understand their current habits and make healthy decisions. The Bellabeat app connects to their line of smart wellness products.\n",
    "\n",
    "- **Leaf**: Bellabeat’s classic wellness tracker can be worn as a bracelet, necklace, or clip. The Leaf tracker connects\n",
    "to the Bellabeat app to track activity, sleep, and stress.\n",
    "\n",
    "- **Time**: This wellness watch combines the timeless look of a classic timepiece with smart technology to track user\n",
    "activity, sleep, and stress. The Time watch connects to the Bellabeat app to provide you with insights into your daily wellness.\n",
    "\n",
    "- **Spring**: This is a water bottle that tracks daily water intake using smart technology to ensure that you are\n",
    "appropriately hydrated throughout the day. The Spring bottle connects to the Bellabeat app to track your hydration levels.\n",
    "\n",
    "- **Bellabeat membership**: Bellabeat also offers a subscription-based membership program for users."
   ]
  },
  {
   "cell_type": "markdown",
   "id": "a2e4083d",
   "metadata": {},
   "source": [
    "<br>"
   ]
  },
  {
   "cell_type": "markdown",
   "id": "45946a8c",
   "metadata": {},
   "source": [
    "## Business Problem"
   ]
  },
  {
   "cell_type": "markdown",
   "id": "28d02387",
   "metadata": {},
   "source": [
    "Bellabeat's executives would like to know the following:\n",
    "\n",
    "1. What are some trends in smart device usage?\n",
    "2. How could these trends apply to Bellabeat customers?\n",
    "3. How could these trends help influence Bellabeat marketing strategy?"
   ]
  },
  {
   "cell_type": "markdown",
   "id": "25231289",
   "metadata": {},
   "source": [
    "<br>"
   ]
  },
  {
   "cell_type": "markdown",
   "id": "9c429e11",
   "metadata": {},
   "source": [
    "## Data Processing"
   ]
  },
  {
   "cell_type": "code",
   "execution_count": 519,
   "id": "43d5a741",
   "metadata": {},
   "outputs": [],
   "source": [
    "import pandas as pd\n",
    "import numpy as np\n",
    "import matplotlib.pyplot as plt\n",
    "import seaborn as sns"
   ]
  },
  {
   "cell_type": "code",
   "execution_count": 520,
   "id": "31ec94f1",
   "metadata": {},
   "outputs": [],
   "source": [
    "daily_activity = pd.read_csv(r\"C:\\Users\\GRZEGORZ\\OneDrive\\Pulpit\\Google Data Analytics\\How can a wellness company play it smart\\Case_Study2_Data\\dailyActivity_merged.csv\")\n",
    "daily_sleep = pd.read_csv(r\"C:\\\\Users\\\\GRZEGORZ\\\\OneDrive\\\\Pulpit\\\\Google Data Analytics\\\\How can a wellness company play it smart\\\\Case_Study2_Data\\\\sleepDay_merged.csv\")\n",
    "hourly_intensities = pd.read_csv(r\"C:\\Users\\GRZEGORZ\\OneDrive\\Pulpit\\Google Data Analytics\\How can a wellness company play it smart\\Case_Study2_Data\\hourlyIntensities_merged.csv\")\n",
    "hourly_steps = pd.read_csv(r\"C:\\Users\\GRZEGORZ\\OneDrive\\Pulpit\\Google Data Analytics\\How can a wellness company play it smart\\Case_Study2_Data\\hourlySteps_merged.csv\")\n",
    "hourly_calories = pd.read_csv(r\"C:\\Users\\GRZEGORZ\\OneDrive\\Pulpit\\Google Data Analytics\\How can a wellness company play it smart\\Case_Study2_Data\\hourlyCalories_merged.csv\")"
   ]
  },
  {
   "cell_type": "markdown",
   "id": "f1e61f25",
   "metadata": {},
   "source": [
    "<br>"
   ]
  },
  {
   "cell_type": "markdown",
   "id": "0934216e",
   "metadata": {},
   "source": [
    "### Data preview"
   ]
  },
  {
   "cell_type": "code",
   "execution_count": 521,
   "id": "d3b8fa83",
   "metadata": {},
   "outputs": [
    {
     "data": {
      "text/html": [
       "<div>\n",
       "<style scoped>\n",
       "    .dataframe tbody tr th:only-of-type {\n",
       "        vertical-align: middle;\n",
       "    }\n",
       "\n",
       "    .dataframe tbody tr th {\n",
       "        vertical-align: top;\n",
       "    }\n",
       "\n",
       "    .dataframe thead th {\n",
       "        text-align: right;\n",
       "    }\n",
       "</style>\n",
       "<table border=\"1\" class=\"dataframe\">\n",
       "  <thead>\n",
       "    <tr style=\"text-align: right;\">\n",
       "      <th></th>\n",
       "      <th>Id</th>\n",
       "      <th>ActivityDate</th>\n",
       "      <th>TotalSteps</th>\n",
       "      <th>TotalDistance</th>\n",
       "      <th>TrackerDistance</th>\n",
       "      <th>LoggedActivitiesDistance</th>\n",
       "      <th>VeryActiveDistance</th>\n",
       "      <th>ModeratelyActiveDistance</th>\n",
       "      <th>LightActiveDistance</th>\n",
       "      <th>SedentaryActiveDistance</th>\n",
       "      <th>VeryActiveMinutes</th>\n",
       "      <th>FairlyActiveMinutes</th>\n",
       "      <th>LightlyActiveMinutes</th>\n",
       "      <th>SedentaryMinutes</th>\n",
       "      <th>Calories</th>\n",
       "    </tr>\n",
       "  </thead>\n",
       "  <tbody>\n",
       "    <tr>\n",
       "      <th>0</th>\n",
       "      <td>1503960366</td>\n",
       "      <td>4/12/2016</td>\n",
       "      <td>13162</td>\n",
       "      <td>8.50</td>\n",
       "      <td>8.50</td>\n",
       "      <td>0.0</td>\n",
       "      <td>1.88</td>\n",
       "      <td>0.55</td>\n",
       "      <td>6.06</td>\n",
       "      <td>0.0</td>\n",
       "      <td>25</td>\n",
       "      <td>13</td>\n",
       "      <td>328</td>\n",
       "      <td>728</td>\n",
       "      <td>1985</td>\n",
       "    </tr>\n",
       "    <tr>\n",
       "      <th>1</th>\n",
       "      <td>1503960366</td>\n",
       "      <td>4/13/2016</td>\n",
       "      <td>10735</td>\n",
       "      <td>6.97</td>\n",
       "      <td>6.97</td>\n",
       "      <td>0.0</td>\n",
       "      <td>1.57</td>\n",
       "      <td>0.69</td>\n",
       "      <td>4.71</td>\n",
       "      <td>0.0</td>\n",
       "      <td>21</td>\n",
       "      <td>19</td>\n",
       "      <td>217</td>\n",
       "      <td>776</td>\n",
       "      <td>1797</td>\n",
       "    </tr>\n",
       "    <tr>\n",
       "      <th>2</th>\n",
       "      <td>1503960366</td>\n",
       "      <td>4/14/2016</td>\n",
       "      <td>10460</td>\n",
       "      <td>6.74</td>\n",
       "      <td>6.74</td>\n",
       "      <td>0.0</td>\n",
       "      <td>2.44</td>\n",
       "      <td>0.40</td>\n",
       "      <td>3.91</td>\n",
       "      <td>0.0</td>\n",
       "      <td>30</td>\n",
       "      <td>11</td>\n",
       "      <td>181</td>\n",
       "      <td>1218</td>\n",
       "      <td>1776</td>\n",
       "    </tr>\n",
       "    <tr>\n",
       "      <th>3</th>\n",
       "      <td>1503960366</td>\n",
       "      <td>4/15/2016</td>\n",
       "      <td>9762</td>\n",
       "      <td>6.28</td>\n",
       "      <td>6.28</td>\n",
       "      <td>0.0</td>\n",
       "      <td>2.14</td>\n",
       "      <td>1.26</td>\n",
       "      <td>2.83</td>\n",
       "      <td>0.0</td>\n",
       "      <td>29</td>\n",
       "      <td>34</td>\n",
       "      <td>209</td>\n",
       "      <td>726</td>\n",
       "      <td>1745</td>\n",
       "    </tr>\n",
       "    <tr>\n",
       "      <th>4</th>\n",
       "      <td>1503960366</td>\n",
       "      <td>4/16/2016</td>\n",
       "      <td>12669</td>\n",
       "      <td>8.16</td>\n",
       "      <td>8.16</td>\n",
       "      <td>0.0</td>\n",
       "      <td>2.71</td>\n",
       "      <td>0.41</td>\n",
       "      <td>5.04</td>\n",
       "      <td>0.0</td>\n",
       "      <td>36</td>\n",
       "      <td>10</td>\n",
       "      <td>221</td>\n",
       "      <td>773</td>\n",
       "      <td>1863</td>\n",
       "    </tr>\n",
       "  </tbody>\n",
       "</table>\n",
       "</div>"
      ],
      "text/plain": [
       "           Id ActivityDate  TotalSteps  TotalDistance  TrackerDistance  \\\n",
       "0  1503960366    4/12/2016       13162           8.50             8.50   \n",
       "1  1503960366    4/13/2016       10735           6.97             6.97   \n",
       "2  1503960366    4/14/2016       10460           6.74             6.74   \n",
       "3  1503960366    4/15/2016        9762           6.28             6.28   \n",
       "4  1503960366    4/16/2016       12669           8.16             8.16   \n",
       "\n",
       "   LoggedActivitiesDistance  VeryActiveDistance  ModeratelyActiveDistance  \\\n",
       "0                       0.0                1.88                      0.55   \n",
       "1                       0.0                1.57                      0.69   \n",
       "2                       0.0                2.44                      0.40   \n",
       "3                       0.0                2.14                      1.26   \n",
       "4                       0.0                2.71                      0.41   \n",
       "\n",
       "   LightActiveDistance  SedentaryActiveDistance  VeryActiveMinutes  \\\n",
       "0                 6.06                      0.0                 25   \n",
       "1                 4.71                      0.0                 21   \n",
       "2                 3.91                      0.0                 30   \n",
       "3                 2.83                      0.0                 29   \n",
       "4                 5.04                      0.0                 36   \n",
       "\n",
       "   FairlyActiveMinutes  LightlyActiveMinutes  SedentaryMinutes  Calories  \n",
       "0                   13                   328               728      1985  \n",
       "1                   19                   217               776      1797  \n",
       "2                   11                   181              1218      1776  \n",
       "3                   34                   209               726      1745  \n",
       "4                   10                   221               773      1863  "
      ]
     },
     "execution_count": 521,
     "metadata": {},
     "output_type": "execute_result"
    }
   ],
   "source": [
    "daily_activity.head()"
   ]
  },
  {
   "cell_type": "code",
   "execution_count": 522,
   "id": "ef7d310b",
   "metadata": {},
   "outputs": [
    {
     "name": "stdout",
     "output_type": "stream",
     "text": [
      "<class 'pandas.core.frame.DataFrame'>\n",
      "RangeIndex: 940 entries, 0 to 939\n",
      "Data columns (total 15 columns):\n",
      " #   Column                    Non-Null Count  Dtype  \n",
      "---  ------                    --------------  -----  \n",
      " 0   Id                        940 non-null    int64  \n",
      " 1   ActivityDate              940 non-null    object \n",
      " 2   TotalSteps                940 non-null    int64  \n",
      " 3   TotalDistance             940 non-null    float64\n",
      " 4   TrackerDistance           940 non-null    float64\n",
      " 5   LoggedActivitiesDistance  940 non-null    float64\n",
      " 6   VeryActiveDistance        940 non-null    float64\n",
      " 7   ModeratelyActiveDistance  940 non-null    float64\n",
      " 8   LightActiveDistance       940 non-null    float64\n",
      " 9   SedentaryActiveDistance   940 non-null    float64\n",
      " 10  VeryActiveMinutes         940 non-null    int64  \n",
      " 11  FairlyActiveMinutes       940 non-null    int64  \n",
      " 12  LightlyActiveMinutes      940 non-null    int64  \n",
      " 13  SedentaryMinutes          940 non-null    int64  \n",
      " 14  Calories                  940 non-null    int64  \n",
      "dtypes: float64(7), int64(7), object(1)\n",
      "memory usage: 110.3+ KB\n"
     ]
    }
   ],
   "source": [
    "# Get more information about daily_activity\n",
    "daily_activity.info()"
   ]
  },
  {
   "cell_type": "markdown",
   "id": "9cac174a",
   "metadata": {},
   "source": [
    "<br>"
   ]
  },
  {
   "cell_type": "code",
   "execution_count": 523,
   "id": "b8ca689a",
   "metadata": {},
   "outputs": [
    {
     "data": {
      "text/html": [
       "<div>\n",
       "<style scoped>\n",
       "    .dataframe tbody tr th:only-of-type {\n",
       "        vertical-align: middle;\n",
       "    }\n",
       "\n",
       "    .dataframe tbody tr th {\n",
       "        vertical-align: top;\n",
       "    }\n",
       "\n",
       "    .dataframe thead th {\n",
       "        text-align: right;\n",
       "    }\n",
       "</style>\n",
       "<table border=\"1\" class=\"dataframe\">\n",
       "  <thead>\n",
       "    <tr style=\"text-align: right;\">\n",
       "      <th></th>\n",
       "      <th>Id</th>\n",
       "      <th>SleepDay</th>\n",
       "      <th>TotalSleepRecords</th>\n",
       "      <th>TotalMinutesAsleep</th>\n",
       "      <th>TotalTimeInBed</th>\n",
       "    </tr>\n",
       "  </thead>\n",
       "  <tbody>\n",
       "    <tr>\n",
       "      <th>0</th>\n",
       "      <td>1503960366</td>\n",
       "      <td>4/12/2016 12:00:00 AM</td>\n",
       "      <td>1</td>\n",
       "      <td>327</td>\n",
       "      <td>346</td>\n",
       "    </tr>\n",
       "    <tr>\n",
       "      <th>1</th>\n",
       "      <td>1503960366</td>\n",
       "      <td>4/13/2016 12:00:00 AM</td>\n",
       "      <td>2</td>\n",
       "      <td>384</td>\n",
       "      <td>407</td>\n",
       "    </tr>\n",
       "    <tr>\n",
       "      <th>2</th>\n",
       "      <td>1503960366</td>\n",
       "      <td>4/15/2016 12:00:00 AM</td>\n",
       "      <td>1</td>\n",
       "      <td>412</td>\n",
       "      <td>442</td>\n",
       "    </tr>\n",
       "    <tr>\n",
       "      <th>3</th>\n",
       "      <td>1503960366</td>\n",
       "      <td>4/16/2016 12:00:00 AM</td>\n",
       "      <td>2</td>\n",
       "      <td>340</td>\n",
       "      <td>367</td>\n",
       "    </tr>\n",
       "    <tr>\n",
       "      <th>4</th>\n",
       "      <td>1503960366</td>\n",
       "      <td>4/17/2016 12:00:00 AM</td>\n",
       "      <td>1</td>\n",
       "      <td>700</td>\n",
       "      <td>712</td>\n",
       "    </tr>\n",
       "  </tbody>\n",
       "</table>\n",
       "</div>"
      ],
      "text/plain": [
       "           Id               SleepDay  TotalSleepRecords  TotalMinutesAsleep  \\\n",
       "0  1503960366  4/12/2016 12:00:00 AM                  1                 327   \n",
       "1  1503960366  4/13/2016 12:00:00 AM                  2                 384   \n",
       "2  1503960366  4/15/2016 12:00:00 AM                  1                 412   \n",
       "3  1503960366  4/16/2016 12:00:00 AM                  2                 340   \n",
       "4  1503960366  4/17/2016 12:00:00 AM                  1                 700   \n",
       "\n",
       "   TotalTimeInBed  \n",
       "0             346  \n",
       "1             407  \n",
       "2             442  \n",
       "3             367  \n",
       "4             712  "
      ]
     },
     "execution_count": 523,
     "metadata": {},
     "output_type": "execute_result"
    }
   ],
   "source": [
    "daily_sleep.head()"
   ]
  },
  {
   "cell_type": "code",
   "execution_count": 524,
   "id": "4b341008",
   "metadata": {},
   "outputs": [
    {
     "name": "stdout",
     "output_type": "stream",
     "text": [
      "<class 'pandas.core.frame.DataFrame'>\n",
      "RangeIndex: 413 entries, 0 to 412\n",
      "Data columns (total 5 columns):\n",
      " #   Column              Non-Null Count  Dtype \n",
      "---  ------              --------------  ----- \n",
      " 0   Id                  413 non-null    int64 \n",
      " 1   SleepDay            413 non-null    object\n",
      " 2   TotalSleepRecords   413 non-null    int64 \n",
      " 3   TotalMinutesAsleep  413 non-null    int64 \n",
      " 4   TotalTimeInBed      413 non-null    int64 \n",
      "dtypes: int64(4), object(1)\n",
      "memory usage: 16.3+ KB\n"
     ]
    }
   ],
   "source": [
    "daily_sleep.info()"
   ]
  },
  {
   "cell_type": "markdown",
   "id": "465cb8f5",
   "metadata": {},
   "source": [
    "<br>"
   ]
  },
  {
   "cell_type": "code",
   "execution_count": 525,
   "id": "105089e7",
   "metadata": {},
   "outputs": [
    {
     "data": {
      "text/html": [
       "<div>\n",
       "<style scoped>\n",
       "    .dataframe tbody tr th:only-of-type {\n",
       "        vertical-align: middle;\n",
       "    }\n",
       "\n",
       "    .dataframe tbody tr th {\n",
       "        vertical-align: top;\n",
       "    }\n",
       "\n",
       "    .dataframe thead th {\n",
       "        text-align: right;\n",
       "    }\n",
       "</style>\n",
       "<table border=\"1\" class=\"dataframe\">\n",
       "  <thead>\n",
       "    <tr style=\"text-align: right;\">\n",
       "      <th></th>\n",
       "      <th>Id</th>\n",
       "      <th>ActivityHour</th>\n",
       "      <th>TotalIntensity</th>\n",
       "      <th>AverageIntensity</th>\n",
       "    </tr>\n",
       "  </thead>\n",
       "  <tbody>\n",
       "    <tr>\n",
       "      <th>0</th>\n",
       "      <td>1503960366</td>\n",
       "      <td>4/12/2016 12:00:00 AM</td>\n",
       "      <td>20</td>\n",
       "      <td>0.333333</td>\n",
       "    </tr>\n",
       "    <tr>\n",
       "      <th>1</th>\n",
       "      <td>1503960366</td>\n",
       "      <td>4/12/2016 1:00:00 AM</td>\n",
       "      <td>8</td>\n",
       "      <td>0.133333</td>\n",
       "    </tr>\n",
       "    <tr>\n",
       "      <th>2</th>\n",
       "      <td>1503960366</td>\n",
       "      <td>4/12/2016 2:00:00 AM</td>\n",
       "      <td>7</td>\n",
       "      <td>0.116667</td>\n",
       "    </tr>\n",
       "    <tr>\n",
       "      <th>3</th>\n",
       "      <td>1503960366</td>\n",
       "      <td>4/12/2016 3:00:00 AM</td>\n",
       "      <td>0</td>\n",
       "      <td>0.000000</td>\n",
       "    </tr>\n",
       "    <tr>\n",
       "      <th>4</th>\n",
       "      <td>1503960366</td>\n",
       "      <td>4/12/2016 4:00:00 AM</td>\n",
       "      <td>0</td>\n",
       "      <td>0.000000</td>\n",
       "    </tr>\n",
       "  </tbody>\n",
       "</table>\n",
       "</div>"
      ],
      "text/plain": [
       "           Id           ActivityHour  TotalIntensity  AverageIntensity\n",
       "0  1503960366  4/12/2016 12:00:00 AM              20          0.333333\n",
       "1  1503960366   4/12/2016 1:00:00 AM               8          0.133333\n",
       "2  1503960366   4/12/2016 2:00:00 AM               7          0.116667\n",
       "3  1503960366   4/12/2016 3:00:00 AM               0          0.000000\n",
       "4  1503960366   4/12/2016 4:00:00 AM               0          0.000000"
      ]
     },
     "execution_count": 525,
     "metadata": {},
     "output_type": "execute_result"
    }
   ],
   "source": [
    "hourly_intensities.head()"
   ]
  },
  {
   "cell_type": "code",
   "execution_count": 526,
   "id": "d5436766",
   "metadata": {},
   "outputs": [
    {
     "name": "stdout",
     "output_type": "stream",
     "text": [
      "<class 'pandas.core.frame.DataFrame'>\n",
      "Int64Index: 67 entries, 0 to 66\n",
      "Data columns (total 7 columns):\n",
      " #   Column          Non-Null Count  Dtype  \n",
      "---  ------          --------------  -----  \n",
      " 0   Id              67 non-null     int64  \n",
      " 1   Date            67 non-null     object \n",
      " 2   WeightKg        67 non-null     float64\n",
      " 3   WeightPounds    67 non-null     float64\n",
      " 4   BMI             67 non-null     float64\n",
      " 5   IsManualReport  67 non-null     bool   \n",
      " 6   LogId           67 non-null     int64  \n",
      "dtypes: bool(1), float64(3), int64(2), object(1)\n",
      "memory usage: 5.8+ KB\n"
     ]
    }
   ],
   "source": [
    "weight.info()"
   ]
  },
  {
   "cell_type": "code",
   "execution_count": 527,
   "id": "2190c146",
   "metadata": {},
   "outputs": [
    {
     "data": {
      "text/html": [
       "<div>\n",
       "<style scoped>\n",
       "    .dataframe tbody tr th:only-of-type {\n",
       "        vertical-align: middle;\n",
       "    }\n",
       "\n",
       "    .dataframe tbody tr th {\n",
       "        vertical-align: top;\n",
       "    }\n",
       "\n",
       "    .dataframe thead th {\n",
       "        text-align: right;\n",
       "    }\n",
       "</style>\n",
       "<table border=\"1\" class=\"dataframe\">\n",
       "  <thead>\n",
       "    <tr style=\"text-align: right;\">\n",
       "      <th></th>\n",
       "      <th>Id</th>\n",
       "      <th>ActivityHour</th>\n",
       "      <th>StepTotal</th>\n",
       "    </tr>\n",
       "  </thead>\n",
       "  <tbody>\n",
       "    <tr>\n",
       "      <th>0</th>\n",
       "      <td>1503960366</td>\n",
       "      <td>4/12/2016 12:00:00 AM</td>\n",
       "      <td>373</td>\n",
       "    </tr>\n",
       "    <tr>\n",
       "      <th>1</th>\n",
       "      <td>1503960366</td>\n",
       "      <td>4/12/2016 1:00:00 AM</td>\n",
       "      <td>160</td>\n",
       "    </tr>\n",
       "    <tr>\n",
       "      <th>2</th>\n",
       "      <td>1503960366</td>\n",
       "      <td>4/12/2016 2:00:00 AM</td>\n",
       "      <td>151</td>\n",
       "    </tr>\n",
       "    <tr>\n",
       "      <th>3</th>\n",
       "      <td>1503960366</td>\n",
       "      <td>4/12/2016 3:00:00 AM</td>\n",
       "      <td>0</td>\n",
       "    </tr>\n",
       "    <tr>\n",
       "      <th>4</th>\n",
       "      <td>1503960366</td>\n",
       "      <td>4/12/2016 4:00:00 AM</td>\n",
       "      <td>0</td>\n",
       "    </tr>\n",
       "  </tbody>\n",
       "</table>\n",
       "</div>"
      ],
      "text/plain": [
       "           Id           ActivityHour  StepTotal\n",
       "0  1503960366  4/12/2016 12:00:00 AM        373\n",
       "1  1503960366   4/12/2016 1:00:00 AM        160\n",
       "2  1503960366   4/12/2016 2:00:00 AM        151\n",
       "3  1503960366   4/12/2016 3:00:00 AM          0\n",
       "4  1503960366   4/12/2016 4:00:00 AM          0"
      ]
     },
     "execution_count": 527,
     "metadata": {},
     "output_type": "execute_result"
    }
   ],
   "source": [
    "hourly_steps.head()"
   ]
  },
  {
   "cell_type": "code",
   "execution_count": 528,
   "id": "243ebca9",
   "metadata": {},
   "outputs": [
    {
     "name": "stdout",
     "output_type": "stream",
     "text": [
      "<class 'pandas.core.frame.DataFrame'>\n",
      "RangeIndex: 22099 entries, 0 to 22098\n",
      "Data columns (total 3 columns):\n",
      " #   Column        Non-Null Count  Dtype \n",
      "---  ------        --------------  ----- \n",
      " 0   Id            22099 non-null  int64 \n",
      " 1   ActivityHour  22099 non-null  object\n",
      " 2   StepTotal     22099 non-null  int64 \n",
      "dtypes: int64(2), object(1)\n",
      "memory usage: 518.1+ KB\n"
     ]
    }
   ],
   "source": [
    "hourly_steps.info()"
   ]
  },
  {
   "cell_type": "code",
   "execution_count": 529,
   "id": "66b5f651",
   "metadata": {},
   "outputs": [
    {
     "data": {
      "text/html": [
       "<div>\n",
       "<style scoped>\n",
       "    .dataframe tbody tr th:only-of-type {\n",
       "        vertical-align: middle;\n",
       "    }\n",
       "\n",
       "    .dataframe tbody tr th {\n",
       "        vertical-align: top;\n",
       "    }\n",
       "\n",
       "    .dataframe thead th {\n",
       "        text-align: right;\n",
       "    }\n",
       "</style>\n",
       "<table border=\"1\" class=\"dataframe\">\n",
       "  <thead>\n",
       "    <tr style=\"text-align: right;\">\n",
       "      <th></th>\n",
       "      <th>Id</th>\n",
       "      <th>ActivityHour</th>\n",
       "      <th>Calories</th>\n",
       "    </tr>\n",
       "  </thead>\n",
       "  <tbody>\n",
       "    <tr>\n",
       "      <th>0</th>\n",
       "      <td>1503960366</td>\n",
       "      <td>4/12/2016 12:00:00 AM</td>\n",
       "      <td>81</td>\n",
       "    </tr>\n",
       "    <tr>\n",
       "      <th>1</th>\n",
       "      <td>1503960366</td>\n",
       "      <td>4/12/2016 1:00:00 AM</td>\n",
       "      <td>61</td>\n",
       "    </tr>\n",
       "    <tr>\n",
       "      <th>2</th>\n",
       "      <td>1503960366</td>\n",
       "      <td>4/12/2016 2:00:00 AM</td>\n",
       "      <td>59</td>\n",
       "    </tr>\n",
       "    <tr>\n",
       "      <th>3</th>\n",
       "      <td>1503960366</td>\n",
       "      <td>4/12/2016 3:00:00 AM</td>\n",
       "      <td>47</td>\n",
       "    </tr>\n",
       "    <tr>\n",
       "      <th>4</th>\n",
       "      <td>1503960366</td>\n",
       "      <td>4/12/2016 4:00:00 AM</td>\n",
       "      <td>48</td>\n",
       "    </tr>\n",
       "  </tbody>\n",
       "</table>\n",
       "</div>"
      ],
      "text/plain": [
       "           Id           ActivityHour  Calories\n",
       "0  1503960366  4/12/2016 12:00:00 AM        81\n",
       "1  1503960366   4/12/2016 1:00:00 AM        61\n",
       "2  1503960366   4/12/2016 2:00:00 AM        59\n",
       "3  1503960366   4/12/2016 3:00:00 AM        47\n",
       "4  1503960366   4/12/2016 4:00:00 AM        48"
      ]
     },
     "execution_count": 529,
     "metadata": {},
     "output_type": "execute_result"
    }
   ],
   "source": [
    "hourly_calories.head()"
   ]
  },
  {
   "cell_type": "code",
   "execution_count": 530,
   "id": "8d27339b",
   "metadata": {},
   "outputs": [
    {
     "name": "stdout",
     "output_type": "stream",
     "text": [
      "<class 'pandas.core.frame.DataFrame'>\n",
      "RangeIndex: 22099 entries, 0 to 22098\n",
      "Data columns (total 3 columns):\n",
      " #   Column        Non-Null Count  Dtype \n",
      "---  ------        --------------  ----- \n",
      " 0   Id            22099 non-null  int64 \n",
      " 1   ActivityHour  22099 non-null  object\n",
      " 2   Calories      22099 non-null  int64 \n",
      "dtypes: int64(2), object(1)\n",
      "memory usage: 518.1+ KB\n"
     ]
    }
   ],
   "source": [
    "hourly_calories.info()"
   ]
  },
  {
   "cell_type": "markdown",
   "id": "ed6870af",
   "metadata": {},
   "source": [
    "<br>"
   ]
  },
  {
   "cell_type": "markdown",
   "id": "b8e4198c",
   "metadata": {},
   "source": [
    "## Data Cleaning"
   ]
  },
  {
   "cell_type": "code",
   "execution_count": 531,
   "id": "75c6d944",
   "metadata": {},
   "outputs": [],
   "source": [
    "# Remove duplicates\n",
    "daily_activity = daily_activity.drop_duplicates()\n",
    "daily_sleep = daily_sleep.drop_duplicates()\n",
    "weight = weight.drop_duplicates()"
   ]
  },
  {
   "cell_type": "markdown",
   "id": "b15da560",
   "metadata": {},
   "source": [
    "#### Check the number of unique users in each data frame using the id column\n"
   ]
  },
  {
   "cell_type": "code",
   "execution_count": 532,
   "id": "d56eeac2",
   "metadata": {},
   "outputs": [
    {
     "data": {
      "text/plain": [
       "33"
      ]
     },
     "execution_count": 532,
     "metadata": {},
     "output_type": "execute_result"
    }
   ],
   "source": [
    "daily_activity['Id'].nunique()"
   ]
  },
  {
   "cell_type": "code",
   "execution_count": 533,
   "id": "94ec4bfc",
   "metadata": {},
   "outputs": [
    {
     "data": {
      "text/plain": [
       "24"
      ]
     },
     "execution_count": 533,
     "metadata": {},
     "output_type": "execute_result"
    }
   ],
   "source": [
    "daily_sleep['Id'].nunique()"
   ]
  },
  {
   "cell_type": "code",
   "execution_count": 534,
   "id": "a5bd8212",
   "metadata": {},
   "outputs": [
    {
     "data": {
      "text/plain": [
       "33"
      ]
     },
     "execution_count": 534,
     "metadata": {},
     "output_type": "execute_result"
    }
   ],
   "source": [
    "hourly_intensities['Id'].nunique()"
   ]
  },
  {
   "cell_type": "code",
   "execution_count": 535,
   "id": "eab70337",
   "metadata": {},
   "outputs": [
    {
     "data": {
      "text/plain": [
       "33"
      ]
     },
     "execution_count": 535,
     "metadata": {},
     "output_type": "execute_result"
    }
   ],
   "source": [
    "hourly_steps['Id'].nunique()"
   ]
  },
  {
   "cell_type": "code",
   "execution_count": 536,
   "id": "60eb541a",
   "metadata": {},
   "outputs": [
    {
     "data": {
      "text/plain": [
       "33"
      ]
     },
     "execution_count": 536,
     "metadata": {},
     "output_type": "execute_result"
    }
   ],
   "source": [
    "hourly_calories['Id'].nunique()"
   ]
  },
  {
   "cell_type": "markdown",
   "id": "612b19a3",
   "metadata": {},
   "source": [
    "#### Changing character format to date format for consistency"
   ]
  },
  {
   "cell_type": "code",
   "execution_count": 537,
   "id": "314d5c05",
   "metadata": {},
   "outputs": [],
   "source": [
    "# 1. convert type\n",
    "from datetime import datetime\n",
    "daily_activity['ActivityDate'] = pd.to_datetime(daily_activity['ActivityDate'])\n",
    "daily_activity['ActivityDate'] = daily_activity['ActivityDate'].dt.strftime('%m/%d/%Y')"
   ]
  },
  {
   "cell_type": "code",
   "execution_count": 538,
   "id": "562aae63",
   "metadata": {},
   "outputs": [],
   "source": [
    "daily_sleep['SleepDay'] = pd.to_datetime(daily_sleep['SleepDay'])\n",
    "daily_sleep['SleepDay'] = daily_sleep['SleepDay'].dt.strftime('%m/%d/%Y')"
   ]
  },
  {
   "cell_type": "code",
   "execution_count": 539,
   "id": "f5803b99",
   "metadata": {},
   "outputs": [],
   "source": [
    "hourly_intensities['Date'] = pd.to_datetime(weight['Date'])\n",
    "hourly_intensities['Date'] = hourly_intensities['Date'].dt.strftime('%m/%d/%Y')"
   ]
  },
  {
   "cell_type": "code",
   "execution_count": 540,
   "id": "3a2bb764",
   "metadata": {},
   "outputs": [
    {
     "data": {
      "text/html": [
       "<div>\n",
       "<style scoped>\n",
       "    .dataframe tbody tr th:only-of-type {\n",
       "        vertical-align: middle;\n",
       "    }\n",
       "\n",
       "    .dataframe tbody tr th {\n",
       "        vertical-align: top;\n",
       "    }\n",
       "\n",
       "    .dataframe thead th {\n",
       "        text-align: right;\n",
       "    }\n",
       "</style>\n",
       "<table border=\"1\" class=\"dataframe\">\n",
       "  <thead>\n",
       "    <tr style=\"text-align: right;\">\n",
       "      <th></th>\n",
       "      <th>Id</th>\n",
       "      <th>ActivityHour</th>\n",
       "      <th>TotalIntensity</th>\n",
       "      <th>AverageIntensity</th>\n",
       "      <th>Date</th>\n",
       "    </tr>\n",
       "  </thead>\n",
       "  <tbody>\n",
       "    <tr>\n",
       "      <th>0</th>\n",
       "      <td>1503960366</td>\n",
       "      <td>4/12/2016 12:00:00 AM</td>\n",
       "      <td>20</td>\n",
       "      <td>0.333333</td>\n",
       "      <td>05/02/2016</td>\n",
       "    </tr>\n",
       "    <tr>\n",
       "      <th>1</th>\n",
       "      <td>1503960366</td>\n",
       "      <td>4/12/2016 1:00:00 AM</td>\n",
       "      <td>8</td>\n",
       "      <td>0.133333</td>\n",
       "      <td>05/03/2016</td>\n",
       "    </tr>\n",
       "    <tr>\n",
       "      <th>2</th>\n",
       "      <td>1503960366</td>\n",
       "      <td>4/12/2016 2:00:00 AM</td>\n",
       "      <td>7</td>\n",
       "      <td>0.116667</td>\n",
       "      <td>04/13/2016</td>\n",
       "    </tr>\n",
       "    <tr>\n",
       "      <th>3</th>\n",
       "      <td>1503960366</td>\n",
       "      <td>4/12/2016 3:00:00 AM</td>\n",
       "      <td>0</td>\n",
       "      <td>0.000000</td>\n",
       "      <td>04/21/2016</td>\n",
       "    </tr>\n",
       "    <tr>\n",
       "      <th>4</th>\n",
       "      <td>1503960366</td>\n",
       "      <td>4/12/2016 4:00:00 AM</td>\n",
       "      <td>0</td>\n",
       "      <td>0.000000</td>\n",
       "      <td>05/12/2016</td>\n",
       "    </tr>\n",
       "  </tbody>\n",
       "</table>\n",
       "</div>"
      ],
      "text/plain": [
       "           Id           ActivityHour  TotalIntensity  AverageIntensity  \\\n",
       "0  1503960366  4/12/2016 12:00:00 AM              20          0.333333   \n",
       "1  1503960366   4/12/2016 1:00:00 AM               8          0.133333   \n",
       "2  1503960366   4/12/2016 2:00:00 AM               7          0.116667   \n",
       "3  1503960366   4/12/2016 3:00:00 AM               0          0.000000   \n",
       "4  1503960366   4/12/2016 4:00:00 AM               0          0.000000   \n",
       "\n",
       "         Date  \n",
       "0  05/02/2016  \n",
       "1  05/03/2016  \n",
       "2  04/13/2016  \n",
       "3  04/21/2016  \n",
       "4  05/12/2016  "
      ]
     },
     "execution_count": 540,
     "metadata": {},
     "output_type": "execute_result"
    }
   ],
   "source": [
    "hourly_intensities.head()"
   ]
  },
  {
   "cell_type": "markdown",
   "id": "ff9d7aee",
   "metadata": {},
   "source": [
    "#### Rename columns"
   ]
  },
  {
   "cell_type": "code",
   "execution_count": 541,
   "id": "96f49e98",
   "metadata": {},
   "outputs": [],
   "source": [
    "daily_activity = daily_activity.rename(columns={'ActivityDate': 'Date'})"
   ]
  },
  {
   "cell_type": "code",
   "execution_count": 542,
   "id": "61c1326b",
   "metadata": {},
   "outputs": [],
   "source": [
    "daily_sleep = daily_sleep.rename(columns={'SleepDay': 'Date'})"
   ]
  },
  {
   "cell_type": "markdown",
   "id": "f21718bc",
   "metadata": {},
   "source": [
    "#### Merge "
   ]
  },
  {
   "cell_type": "code",
   "execution_count": 543,
   "id": "4e285d29",
   "metadata": {},
   "outputs": [
    {
     "data": {
      "text/html": [
       "<div>\n",
       "<style scoped>\n",
       "    .dataframe tbody tr th:only-of-type {\n",
       "        vertical-align: middle;\n",
       "    }\n",
       "\n",
       "    .dataframe tbody tr th {\n",
       "        vertical-align: top;\n",
       "    }\n",
       "\n",
       "    .dataframe thead th {\n",
       "        text-align: right;\n",
       "    }\n",
       "</style>\n",
       "<table border=\"1\" class=\"dataframe\">\n",
       "  <thead>\n",
       "    <tr style=\"text-align: right;\">\n",
       "      <th></th>\n",
       "      <th>Id</th>\n",
       "      <th>Date</th>\n",
       "      <th>TotalSteps</th>\n",
       "      <th>TotalDistance</th>\n",
       "      <th>TrackerDistance</th>\n",
       "      <th>LoggedActivitiesDistance</th>\n",
       "      <th>VeryActiveDistance</th>\n",
       "      <th>ModeratelyActiveDistance</th>\n",
       "      <th>LightActiveDistance</th>\n",
       "      <th>SedentaryActiveDistance</th>\n",
       "      <th>VeryActiveMinutes</th>\n",
       "      <th>FairlyActiveMinutes</th>\n",
       "      <th>LightlyActiveMinutes</th>\n",
       "      <th>SedentaryMinutes</th>\n",
       "      <th>Calories</th>\n",
       "      <th>TotalSleepRecords</th>\n",
       "      <th>TotalMinutesAsleep</th>\n",
       "      <th>TotalTimeInBed</th>\n",
       "    </tr>\n",
       "  </thead>\n",
       "  <tbody>\n",
       "    <tr>\n",
       "      <th>0</th>\n",
       "      <td>1503960366</td>\n",
       "      <td>04/12/2016</td>\n",
       "      <td>13162</td>\n",
       "      <td>8.50</td>\n",
       "      <td>8.50</td>\n",
       "      <td>0.0</td>\n",
       "      <td>1.88</td>\n",
       "      <td>0.55</td>\n",
       "      <td>6.06</td>\n",
       "      <td>0.0</td>\n",
       "      <td>25</td>\n",
       "      <td>13</td>\n",
       "      <td>328</td>\n",
       "      <td>728</td>\n",
       "      <td>1985</td>\n",
       "      <td>1</td>\n",
       "      <td>327</td>\n",
       "      <td>346</td>\n",
       "    </tr>\n",
       "    <tr>\n",
       "      <th>1</th>\n",
       "      <td>1503960366</td>\n",
       "      <td>04/13/2016</td>\n",
       "      <td>10735</td>\n",
       "      <td>6.97</td>\n",
       "      <td>6.97</td>\n",
       "      <td>0.0</td>\n",
       "      <td>1.57</td>\n",
       "      <td>0.69</td>\n",
       "      <td>4.71</td>\n",
       "      <td>0.0</td>\n",
       "      <td>21</td>\n",
       "      <td>19</td>\n",
       "      <td>217</td>\n",
       "      <td>776</td>\n",
       "      <td>1797</td>\n",
       "      <td>2</td>\n",
       "      <td>384</td>\n",
       "      <td>407</td>\n",
       "    </tr>\n",
       "    <tr>\n",
       "      <th>2</th>\n",
       "      <td>1503960366</td>\n",
       "      <td>04/15/2016</td>\n",
       "      <td>9762</td>\n",
       "      <td>6.28</td>\n",
       "      <td>6.28</td>\n",
       "      <td>0.0</td>\n",
       "      <td>2.14</td>\n",
       "      <td>1.26</td>\n",
       "      <td>2.83</td>\n",
       "      <td>0.0</td>\n",
       "      <td>29</td>\n",
       "      <td>34</td>\n",
       "      <td>209</td>\n",
       "      <td>726</td>\n",
       "      <td>1745</td>\n",
       "      <td>1</td>\n",
       "      <td>412</td>\n",
       "      <td>442</td>\n",
       "    </tr>\n",
       "    <tr>\n",
       "      <th>3</th>\n",
       "      <td>1503960366</td>\n",
       "      <td>04/16/2016</td>\n",
       "      <td>12669</td>\n",
       "      <td>8.16</td>\n",
       "      <td>8.16</td>\n",
       "      <td>0.0</td>\n",
       "      <td>2.71</td>\n",
       "      <td>0.41</td>\n",
       "      <td>5.04</td>\n",
       "      <td>0.0</td>\n",
       "      <td>36</td>\n",
       "      <td>10</td>\n",
       "      <td>221</td>\n",
       "      <td>773</td>\n",
       "      <td>1863</td>\n",
       "      <td>2</td>\n",
       "      <td>340</td>\n",
       "      <td>367</td>\n",
       "    </tr>\n",
       "    <tr>\n",
       "      <th>4</th>\n",
       "      <td>1503960366</td>\n",
       "      <td>04/17/2016</td>\n",
       "      <td>9705</td>\n",
       "      <td>6.48</td>\n",
       "      <td>6.48</td>\n",
       "      <td>0.0</td>\n",
       "      <td>3.19</td>\n",
       "      <td>0.78</td>\n",
       "      <td>2.51</td>\n",
       "      <td>0.0</td>\n",
       "      <td>38</td>\n",
       "      <td>20</td>\n",
       "      <td>164</td>\n",
       "      <td>539</td>\n",
       "      <td>1728</td>\n",
       "      <td>1</td>\n",
       "      <td>700</td>\n",
       "      <td>712</td>\n",
       "    </tr>\n",
       "  </tbody>\n",
       "</table>\n",
       "</div>"
      ],
      "text/plain": [
       "           Id        Date  TotalSteps  TotalDistance  TrackerDistance  \\\n",
       "0  1503960366  04/12/2016       13162           8.50             8.50   \n",
       "1  1503960366  04/13/2016       10735           6.97             6.97   \n",
       "2  1503960366  04/15/2016        9762           6.28             6.28   \n",
       "3  1503960366  04/16/2016       12669           8.16             8.16   \n",
       "4  1503960366  04/17/2016        9705           6.48             6.48   \n",
       "\n",
       "   LoggedActivitiesDistance  VeryActiveDistance  ModeratelyActiveDistance  \\\n",
       "0                       0.0                1.88                      0.55   \n",
       "1                       0.0                1.57                      0.69   \n",
       "2                       0.0                2.14                      1.26   \n",
       "3                       0.0                2.71                      0.41   \n",
       "4                       0.0                3.19                      0.78   \n",
       "\n",
       "   LightActiveDistance  SedentaryActiveDistance  VeryActiveMinutes  \\\n",
       "0                 6.06                      0.0                 25   \n",
       "1                 4.71                      0.0                 21   \n",
       "2                 2.83                      0.0                 29   \n",
       "3                 5.04                      0.0                 36   \n",
       "4                 2.51                      0.0                 38   \n",
       "\n",
       "   FairlyActiveMinutes  LightlyActiveMinutes  SedentaryMinutes  Calories  \\\n",
       "0                   13                   328               728      1985   \n",
       "1                   19                   217               776      1797   \n",
       "2                   34                   209               726      1745   \n",
       "3                   10                   221               773      1863   \n",
       "4                   20                   164               539      1728   \n",
       "\n",
       "   TotalSleepRecords  TotalMinutesAsleep  TotalTimeInBed  \n",
       "0                  1                 327             346  \n",
       "1                  2                 384             407  \n",
       "2                  1                 412             442  \n",
       "3                  2                 340             367  \n",
       "4                  1                 700             712  "
      ]
     },
     "execution_count": 543,
     "metadata": {},
     "output_type": "execute_result"
    }
   ],
   "source": [
    "df = pd.merge(daily_activity, daily_sleep, on=['Id', 'Date'], how='inner')\n",
    "df.head()"
   ]
  },
  {
   "cell_type": "code",
   "execution_count": 544,
   "id": "0608a939",
   "metadata": {},
   "outputs": [
    {
     "name": "stdout",
     "output_type": "stream",
     "text": [
      "<class 'pandas.core.frame.DataFrame'>\n",
      "Int64Index: 410 entries, 0 to 409\n",
      "Data columns (total 18 columns):\n",
      " #   Column                    Non-Null Count  Dtype  \n",
      "---  ------                    --------------  -----  \n",
      " 0   Id                        410 non-null    int64  \n",
      " 1   Date                      410 non-null    object \n",
      " 2   TotalSteps                410 non-null    int64  \n",
      " 3   TotalDistance             410 non-null    float64\n",
      " 4   TrackerDistance           410 non-null    float64\n",
      " 5   LoggedActivitiesDistance  410 non-null    float64\n",
      " 6   VeryActiveDistance        410 non-null    float64\n",
      " 7   ModeratelyActiveDistance  410 non-null    float64\n",
      " 8   LightActiveDistance       410 non-null    float64\n",
      " 9   SedentaryActiveDistance   410 non-null    float64\n",
      " 10  VeryActiveMinutes         410 non-null    int64  \n",
      " 11  FairlyActiveMinutes       410 non-null    int64  \n",
      " 12  LightlyActiveMinutes      410 non-null    int64  \n",
      " 13  SedentaryMinutes          410 non-null    int64  \n",
      " 14  Calories                  410 non-null    int64  \n",
      " 15  TotalSleepRecords         410 non-null    int64  \n",
      " 16  TotalMinutesAsleep        410 non-null    int64  \n",
      " 17  TotalTimeInBed            410 non-null    int64  \n",
      "dtypes: float64(7), int64(10), object(1)\n",
      "memory usage: 60.9+ KB\n"
     ]
    }
   ],
   "source": [
    "df.info()"
   ]
  },
  {
   "cell_type": "code",
   "execution_count": 545,
   "id": "ceab6727",
   "metadata": {},
   "outputs": [],
   "source": [
    "df['Date'] = pd.to_datetime(df['Date'])\n",
    "df['Date'] = df['Date'].dt.strftime('%m/%d/%Y')"
   ]
  },
  {
   "cell_type": "markdown",
   "id": "7096dfdf",
   "metadata": {},
   "source": [
    "<br>"
   ]
  },
  {
   "cell_type": "code",
   "execution_count": 673,
   "id": "697ec657",
   "metadata": {
    "scrolled": false
   },
   "outputs": [
    {
     "data": {
      "text/html": [
       "<div>\n",
       "<style scoped>\n",
       "    .dataframe tbody tr th:only-of-type {\n",
       "        vertical-align: middle;\n",
       "    }\n",
       "\n",
       "    .dataframe tbody tr th {\n",
       "        vertical-align: top;\n",
       "    }\n",
       "\n",
       "    .dataframe thead th {\n",
       "        text-align: right;\n",
       "    }\n",
       "</style>\n",
       "<table border=\"1\" class=\"dataframe\">\n",
       "  <thead>\n",
       "    <tr style=\"text-align: right;\">\n",
       "      <th></th>\n",
       "      <th>Id</th>\n",
       "      <th>ActivityHour</th>\n",
       "      <th>StepTotal</th>\n",
       "      <th>Calories</th>\n",
       "      <th>TotalIntensity</th>\n",
       "      <th>AverageIntensity</th>\n",
       "      <th>Date</th>\n",
       "      <th>Time</th>\n",
       "      <th>Day_of_Week</th>\n",
       "    </tr>\n",
       "  </thead>\n",
       "  <tbody>\n",
       "    <tr>\n",
       "      <th>0</th>\n",
       "      <td>1503960366</td>\n",
       "      <td>4/12/2016 12:00:00 AM</td>\n",
       "      <td>373</td>\n",
       "      <td>81</td>\n",
       "      <td>20</td>\n",
       "      <td>0.333333</td>\n",
       "      <td>2016-04-12</td>\n",
       "      <td>12:00:00 AM</td>\n",
       "      <td>Tuesday</td>\n",
       "    </tr>\n",
       "    <tr>\n",
       "      <th>1</th>\n",
       "      <td>1503960366</td>\n",
       "      <td>4/12/2016 1:00:00 AM</td>\n",
       "      <td>160</td>\n",
       "      <td>61</td>\n",
       "      <td>8</td>\n",
       "      <td>0.133333</td>\n",
       "      <td>2016-04-12</td>\n",
       "      <td>1:00:00 AM</td>\n",
       "      <td>Tuesday</td>\n",
       "    </tr>\n",
       "    <tr>\n",
       "      <th>2</th>\n",
       "      <td>1503960366</td>\n",
       "      <td>4/12/2016 2:00:00 AM</td>\n",
       "      <td>151</td>\n",
       "      <td>59</td>\n",
       "      <td>7</td>\n",
       "      <td>0.116667</td>\n",
       "      <td>2016-04-12</td>\n",
       "      <td>2:00:00 AM</td>\n",
       "      <td>Tuesday</td>\n",
       "    </tr>\n",
       "  </tbody>\n",
       "</table>\n",
       "</div>"
      ],
      "text/plain": [
       "           Id           ActivityHour  StepTotal  Calories  TotalIntensity  \\\n",
       "0  1503960366  4/12/2016 12:00:00 AM        373        81              20   \n",
       "1  1503960366   4/12/2016 1:00:00 AM        160        61               8   \n",
       "2  1503960366   4/12/2016 2:00:00 AM        151        59               7   \n",
       "\n",
       "   AverageIntensity       Date         Time Day_of_Week  \n",
       "0          0.333333 2016-04-12  12:00:00 AM     Tuesday  \n",
       "1          0.133333 2016-04-12   1:00:00 AM     Tuesday  \n",
       "2          0.116667 2016-04-12   2:00:00 AM     Tuesday  "
      ]
     },
     "execution_count": 673,
     "metadata": {},
     "output_type": "execute_result"
    }
   ],
   "source": [
    "# Merging of all hourly data\n",
    "hourlies_df = pd.merge(hourly_steps, hourly_calories, on=[\"Id\", \"ActivityHour\"], how=\"left\")\n",
    "hourlies_df = pd.merge(hourlies_df, hourly_intensities, on=[\"Id\", \"ActivityHour\"], how=\"left\")\n",
    "hourlies_df[['Date', 'Time']] = hourlies_df['ActivityHour'].str.split(\" \", n=1, expand=True)\n",
    "\n",
    "hourlies_df['Date'] = pd.to_datetime(hourlies_df['Date'])\n",
    "hourlies_df['Date'] = hourlies_df['Date'].dt.strftime('%m/%d/%Y')\n",
    "hourlies_df['Date'] = pd.to_datetime(hourlies_df['Date'])\n",
    "hourlies_df['Day_of_Week'] = hourlies_df['Date'].dt.day_name()\n",
    "\n",
    "hourlies_df.head(3)"
   ]
  },
  {
   "cell_type": "code",
   "execution_count": 674,
   "id": "44a222af",
   "metadata": {},
   "outputs": [
    {
     "data": {
      "text/html": [
       "<div>\n",
       "<style scoped>\n",
       "    .dataframe tbody tr th:only-of-type {\n",
       "        vertical-align: middle;\n",
       "    }\n",
       "\n",
       "    .dataframe tbody tr th {\n",
       "        vertical-align: top;\n",
       "    }\n",
       "\n",
       "    .dataframe thead th {\n",
       "        text-align: right;\n",
       "    }\n",
       "</style>\n",
       "<table border=\"1\" class=\"dataframe\">\n",
       "  <thead>\n",
       "    <tr style=\"text-align: right;\">\n",
       "      <th></th>\n",
       "      <th>Id</th>\n",
       "      <th>ActivityHour</th>\n",
       "      <th>StepTotal</th>\n",
       "      <th>Calories</th>\n",
       "      <th>TotalIntensity</th>\n",
       "      <th>AverageIntensity</th>\n",
       "      <th>Date</th>\n",
       "      <th>Time</th>\n",
       "      <th>Day_of_Week</th>\n",
       "    </tr>\n",
       "  </thead>\n",
       "  <tbody>\n",
       "    <tr>\n",
       "      <th>0</th>\n",
       "      <td>1503960366</td>\n",
       "      <td>4/12/2016 12:00:00 AM</td>\n",
       "      <td>373</td>\n",
       "      <td>81</td>\n",
       "      <td>20</td>\n",
       "      <td>0.333333</td>\n",
       "      <td>2016-04-12</td>\n",
       "      <td>00:00:00</td>\n",
       "      <td>Tuesday</td>\n",
       "    </tr>\n",
       "    <tr>\n",
       "      <th>1</th>\n",
       "      <td>1624580081</td>\n",
       "      <td>4/12/2016 12:00:00 AM</td>\n",
       "      <td>31</td>\n",
       "      <td>55</td>\n",
       "      <td>4</td>\n",
       "      <td>0.066667</td>\n",
       "      <td>2016-04-12</td>\n",
       "      <td>00:00:00</td>\n",
       "      <td>Tuesday</td>\n",
       "    </tr>\n",
       "    <tr>\n",
       "      <th>2</th>\n",
       "      <td>1644430081</td>\n",
       "      <td>4/12/2016 12:00:00 AM</td>\n",
       "      <td>45</td>\n",
       "      <td>89</td>\n",
       "      <td>2</td>\n",
       "      <td>0.033333</td>\n",
       "      <td>2016-04-12</td>\n",
       "      <td>00:00:00</td>\n",
       "      <td>Tuesday</td>\n",
       "    </tr>\n",
       "  </tbody>\n",
       "</table>\n",
       "</div>"
      ],
      "text/plain": [
       "           Id           ActivityHour  StepTotal  Calories  TotalIntensity  \\\n",
       "0  1503960366  4/12/2016 12:00:00 AM        373        81              20   \n",
       "1  1624580081  4/12/2016 12:00:00 AM         31        55               4   \n",
       "2  1644430081  4/12/2016 12:00:00 AM         45        89               2   \n",
       "\n",
       "   AverageIntensity       Date      Time Day_of_Week  \n",
       "0          0.333333 2016-04-12  00:00:00     Tuesday  \n",
       "1          0.066667 2016-04-12  00:00:00     Tuesday  \n",
       "2          0.033333 2016-04-12  00:00:00     Tuesday  "
      ]
     },
     "execution_count": 674,
     "metadata": {},
     "output_type": "execute_result"
    }
   ],
   "source": [
    "ordered_days = ['Monday', 'Tuesday', 'Wednesday', 'Thursday', 'Friday', 'Saturday', 'Sunday']\n",
    "hourlies_df['Day_of_Week'] = pd.Categorical(hourlies_df['Day_of_Week'], categories=ordered_days, ordered=True)\n",
    "\n",
    "hourlies_df['Time'] = pd.to_datetime(hourlies_df['Time'])\n",
    "hourlies_df['Time'] = hourlies_df['Time'].dt.time\n",
    "\n",
    "hourlies_df = hourlies_df.sort_values(by=['Date', 'Time']).reset_index(drop=True)\n",
    "hourlies_df.head(3)"
   ]
  },
  {
   "cell_type": "markdown",
   "id": "cb8c5a2d",
   "metadata": {},
   "source": [
    "<br>"
   ]
  },
  {
   "cell_type": "markdown",
   "id": "105d1047",
   "metadata": {},
   "source": [
    "## Analyze"
   ]
  },
  {
   "cell_type": "code",
   "execution_count": 420,
   "id": "47abaf39",
   "metadata": {},
   "outputs": [
    {
     "data": {
      "text/html": [
       "<div>\n",
       "<style scoped>\n",
       "    .dataframe tbody tr th:only-of-type {\n",
       "        vertical-align: middle;\n",
       "    }\n",
       "\n",
       "    .dataframe tbody tr th {\n",
       "        vertical-align: top;\n",
       "    }\n",
       "\n",
       "    .dataframe thead th {\n",
       "        text-align: right;\n",
       "    }\n",
       "</style>\n",
       "<table border=\"1\" class=\"dataframe\">\n",
       "  <thead>\n",
       "    <tr style=\"text-align: right;\">\n",
       "      <th></th>\n",
       "      <th>Id</th>\n",
       "      <th>TotalSteps</th>\n",
       "      <th>TotalDistance</th>\n",
       "      <th>TrackerDistance</th>\n",
       "      <th>LoggedActivitiesDistance</th>\n",
       "      <th>VeryActiveDistance</th>\n",
       "      <th>ModeratelyActiveDistance</th>\n",
       "      <th>LightActiveDistance</th>\n",
       "      <th>SedentaryActiveDistance</th>\n",
       "      <th>VeryActiveMinutes</th>\n",
       "      <th>FairlyActiveMinutes</th>\n",
       "      <th>LightlyActiveMinutes</th>\n",
       "      <th>SedentaryMinutes</th>\n",
       "      <th>Calories</th>\n",
       "      <th>TotalSleepRecords</th>\n",
       "      <th>TotalMinutesAsleep</th>\n",
       "      <th>TotalTimeInBed</th>\n",
       "    </tr>\n",
       "  </thead>\n",
       "  <tbody>\n",
       "    <tr>\n",
       "      <th>count</th>\n",
       "      <td>4.090000e+02</td>\n",
       "      <td>409.000000</td>\n",
       "      <td>409.000000</td>\n",
       "      <td>409.000000</td>\n",
       "      <td>409.000000</td>\n",
       "      <td>409.000000</td>\n",
       "      <td>409.000000</td>\n",
       "      <td>409.000000</td>\n",
       "      <td>409.000000</td>\n",
       "      <td>409.000000</td>\n",
       "      <td>409.000000</td>\n",
       "      <td>409.000000</td>\n",
       "      <td>409.000000</td>\n",
       "      <td>409.000000</td>\n",
       "      <td>409.000000</td>\n",
       "      <td>409.000000</td>\n",
       "      <td>409.000000</td>\n",
       "    </tr>\n",
       "    <tr>\n",
       "      <th>mean</th>\n",
       "      <td>5.003498e+09</td>\n",
       "      <td>8503.547677</td>\n",
       "      <td>6.006308</td>\n",
       "      <td>6.001271</td>\n",
       "      <td>0.109133</td>\n",
       "      <td>1.445159</td>\n",
       "      <td>0.744377</td>\n",
       "      <td>3.785575</td>\n",
       "      <td>0.000929</td>\n",
       "      <td>25.046455</td>\n",
       "      <td>17.936430</td>\n",
       "      <td>216.268949</td>\n",
       "      <td>712.061125</td>\n",
       "      <td>2390.283619</td>\n",
       "      <td>1.119804</td>\n",
       "      <td>419.398533</td>\n",
       "      <td>458.757946</td>\n",
       "    </tr>\n",
       "    <tr>\n",
       "      <th>std</th>\n",
       "      <td>2.056119e+09</td>\n",
       "      <td>4156.088846</td>\n",
       "      <td>3.045178</td>\n",
       "      <td>3.040492</td>\n",
       "      <td>0.506114</td>\n",
       "      <td>1.994916</td>\n",
       "      <td>1.000985</td>\n",
       "      <td>1.719221</td>\n",
       "      <td>0.008695</td>\n",
       "      <td>36.262595</td>\n",
       "      <td>22.444722</td>\n",
       "      <td>86.635511</td>\n",
       "      <td>166.381055</td>\n",
       "      <td>759.099446</td>\n",
       "      <td>0.347010</td>\n",
       "      <td>118.693315</td>\n",
       "      <td>127.489379</td>\n",
       "    </tr>\n",
       "    <tr>\n",
       "      <th>min</th>\n",
       "      <td>1.503960e+09</td>\n",
       "      <td>17.000000</td>\n",
       "      <td>0.010000</td>\n",
       "      <td>0.010000</td>\n",
       "      <td>0.000000</td>\n",
       "      <td>0.000000</td>\n",
       "      <td>0.000000</td>\n",
       "      <td>0.010000</td>\n",
       "      <td>0.000000</td>\n",
       "      <td>0.000000</td>\n",
       "      <td>0.000000</td>\n",
       "      <td>2.000000</td>\n",
       "      <td>0.000000</td>\n",
       "      <td>257.000000</td>\n",
       "      <td>1.000000</td>\n",
       "      <td>58.000000</td>\n",
       "      <td>61.000000</td>\n",
       "    </tr>\n",
       "    <tr>\n",
       "      <th>25%</th>\n",
       "      <td>3.977334e+09</td>\n",
       "      <td>5183.000000</td>\n",
       "      <td>3.590000</td>\n",
       "      <td>3.590000</td>\n",
       "      <td>0.000000</td>\n",
       "      <td>0.000000</td>\n",
       "      <td>0.000000</td>\n",
       "      <td>2.540000</td>\n",
       "      <td>0.000000</td>\n",
       "      <td>0.000000</td>\n",
       "      <td>0.000000</td>\n",
       "      <td>158.000000</td>\n",
       "      <td>631.000000</td>\n",
       "      <td>1838.000000</td>\n",
       "      <td>1.000000</td>\n",
       "      <td>361.000000</td>\n",
       "      <td>406.000000</td>\n",
       "    </tr>\n",
       "    <tr>\n",
       "      <th>50%</th>\n",
       "      <td>4.702922e+09</td>\n",
       "      <td>8911.000000</td>\n",
       "      <td>6.260000</td>\n",
       "      <td>6.260000</td>\n",
       "      <td>0.000000</td>\n",
       "      <td>0.570000</td>\n",
       "      <td>0.420000</td>\n",
       "      <td>3.660000</td>\n",
       "      <td>0.000000</td>\n",
       "      <td>9.000000</td>\n",
       "      <td>11.000000</td>\n",
       "      <td>208.000000</td>\n",
       "      <td>717.000000</td>\n",
       "      <td>2211.000000</td>\n",
       "      <td>1.000000</td>\n",
       "      <td>433.000000</td>\n",
       "      <td>463.000000</td>\n",
       "    </tr>\n",
       "    <tr>\n",
       "      <th>75%</th>\n",
       "      <td>6.962181e+09</td>\n",
       "      <td>11317.000000</td>\n",
       "      <td>7.960000</td>\n",
       "      <td>7.920000</td>\n",
       "      <td>0.000000</td>\n",
       "      <td>2.370000</td>\n",
       "      <td>1.040000</td>\n",
       "      <td>4.910000</td>\n",
       "      <td>0.000000</td>\n",
       "      <td>38.000000</td>\n",
       "      <td>27.000000</td>\n",
       "      <td>263.000000</td>\n",
       "      <td>783.000000</td>\n",
       "      <td>2924.000000</td>\n",
       "      <td>1.000000</td>\n",
       "      <td>490.000000</td>\n",
       "      <td>526.000000</td>\n",
       "    </tr>\n",
       "    <tr>\n",
       "      <th>max</th>\n",
       "      <td>8.792010e+09</td>\n",
       "      <td>22770.000000</td>\n",
       "      <td>17.540001</td>\n",
       "      <td>17.540001</td>\n",
       "      <td>4.081692</td>\n",
       "      <td>12.540000</td>\n",
       "      <td>6.480000</td>\n",
       "      <td>9.480000</td>\n",
       "      <td>0.110000</td>\n",
       "      <td>210.000000</td>\n",
       "      <td>143.000000</td>\n",
       "      <td>518.000000</td>\n",
       "      <td>1265.000000</td>\n",
       "      <td>4900.000000</td>\n",
       "      <td>3.000000</td>\n",
       "      <td>796.000000</td>\n",
       "      <td>961.000000</td>\n",
       "    </tr>\n",
       "  </tbody>\n",
       "</table>\n",
       "</div>"
      ],
      "text/plain": [
       "                 Id    TotalSteps  TotalDistance  TrackerDistance  \\\n",
       "count  4.090000e+02    409.000000     409.000000       409.000000   \n",
       "mean   5.003498e+09   8503.547677       6.006308         6.001271   \n",
       "std    2.056119e+09   4156.088846       3.045178         3.040492   \n",
       "min    1.503960e+09     17.000000       0.010000         0.010000   \n",
       "25%    3.977334e+09   5183.000000       3.590000         3.590000   \n",
       "50%    4.702922e+09   8911.000000       6.260000         6.260000   \n",
       "75%    6.962181e+09  11317.000000       7.960000         7.920000   \n",
       "max    8.792010e+09  22770.000000      17.540001        17.540001   \n",
       "\n",
       "       LoggedActivitiesDistance  VeryActiveDistance  ModeratelyActiveDistance  \\\n",
       "count                409.000000          409.000000                409.000000   \n",
       "mean                   0.109133            1.445159                  0.744377   \n",
       "std                    0.506114            1.994916                  1.000985   \n",
       "min                    0.000000            0.000000                  0.000000   \n",
       "25%                    0.000000            0.000000                  0.000000   \n",
       "50%                    0.000000            0.570000                  0.420000   \n",
       "75%                    0.000000            2.370000                  1.040000   \n",
       "max                    4.081692           12.540000                  6.480000   \n",
       "\n",
       "       LightActiveDistance  SedentaryActiveDistance  VeryActiveMinutes  \\\n",
       "count           409.000000               409.000000         409.000000   \n",
       "mean              3.785575                 0.000929          25.046455   \n",
       "std               1.719221                 0.008695          36.262595   \n",
       "min               0.010000                 0.000000           0.000000   \n",
       "25%               2.540000                 0.000000           0.000000   \n",
       "50%               3.660000                 0.000000           9.000000   \n",
       "75%               4.910000                 0.000000          38.000000   \n",
       "max               9.480000                 0.110000         210.000000   \n",
       "\n",
       "       FairlyActiveMinutes  LightlyActiveMinutes  SedentaryMinutes  \\\n",
       "count           409.000000            409.000000        409.000000   \n",
       "mean             17.936430            216.268949        712.061125   \n",
       "std              22.444722             86.635511        166.381055   \n",
       "min               0.000000              2.000000          0.000000   \n",
       "25%               0.000000            158.000000        631.000000   \n",
       "50%              11.000000            208.000000        717.000000   \n",
       "75%              27.000000            263.000000        783.000000   \n",
       "max             143.000000            518.000000       1265.000000   \n",
       "\n",
       "          Calories  TotalSleepRecords  TotalMinutesAsleep  TotalTimeInBed  \n",
       "count   409.000000         409.000000          409.000000      409.000000  \n",
       "mean   2390.283619           1.119804          419.398533      458.757946  \n",
       "std     759.099446           0.347010          118.693315      127.489379  \n",
       "min     257.000000           1.000000           58.000000       61.000000  \n",
       "25%    1838.000000           1.000000          361.000000      406.000000  \n",
       "50%    2211.000000           1.000000          433.000000      463.000000  \n",
       "75%    2924.000000           1.000000          490.000000      526.000000  \n",
       "max    4900.000000           3.000000          796.000000      961.000000  "
      ]
     },
     "execution_count": 420,
     "metadata": {},
     "output_type": "execute_result"
    }
   ],
   "source": [
    "# Statistical view\n",
    "df[1:].describe()"
   ]
  },
  {
   "cell_type": "code",
   "execution_count": 421,
   "id": "c68ae67b",
   "metadata": {},
   "outputs": [
    {
     "data": {
      "text/html": [
       "<style type=\"text/css\">\n",
       "#T_756e7_row0_col0, #T_756e7_row0_col1, #T_756e7_row0_col2, #T_756e7_row1_col0, #T_756e7_row1_col1, #T_756e7_row1_col2, #T_756e7_row2_col0, #T_756e7_row2_col1, #T_756e7_row2_col2, #T_756e7_row3_col3, #T_756e7_row4_col4, #T_756e7_row4_col8, #T_756e7_row5_col5, #T_756e7_row5_col9, #T_756e7_row6_col6, #T_756e7_row6_col10, #T_756e7_row7_col7, #T_756e7_row8_col4, #T_756e7_row8_col8, #T_756e7_row9_col5, #T_756e7_row9_col9, #T_756e7_row10_col6, #T_756e7_row10_col10, #T_756e7_row11_col11, #T_756e7_row12_col12, #T_756e7_row13_col13, #T_756e7_row14_col14, #T_756e7_row14_col15, #T_756e7_row15_col14, #T_756e7_row15_col15 {\n",
       "  background-color: lightgreen;\n",
       "  font-weight: bold;\n",
       "}\n",
       "</style>\n",
       "<table id=\"T_756e7\">\n",
       "  <thead>\n",
       "    <tr>\n",
       "      <th class=\"blank level0\" >&nbsp;</th>\n",
       "      <th id=\"T_756e7_level0_col0\" class=\"col_heading level0 col0\" >TotalSteps</th>\n",
       "      <th id=\"T_756e7_level0_col1\" class=\"col_heading level0 col1\" >TotalDistance</th>\n",
       "      <th id=\"T_756e7_level0_col2\" class=\"col_heading level0 col2\" >TrackerDistance</th>\n",
       "      <th id=\"T_756e7_level0_col3\" class=\"col_heading level0 col3\" >LoggedActivitiesDistance</th>\n",
       "      <th id=\"T_756e7_level0_col4\" class=\"col_heading level0 col4\" >VeryActiveDistance</th>\n",
       "      <th id=\"T_756e7_level0_col5\" class=\"col_heading level0 col5\" >ModeratelyActiveDistance</th>\n",
       "      <th id=\"T_756e7_level0_col6\" class=\"col_heading level0 col6\" >LightActiveDistance</th>\n",
       "      <th id=\"T_756e7_level0_col7\" class=\"col_heading level0 col7\" >SedentaryActiveDistance</th>\n",
       "      <th id=\"T_756e7_level0_col8\" class=\"col_heading level0 col8\" >VeryActiveMinutes</th>\n",
       "      <th id=\"T_756e7_level0_col9\" class=\"col_heading level0 col9\" >FairlyActiveMinutes</th>\n",
       "      <th id=\"T_756e7_level0_col10\" class=\"col_heading level0 col10\" >LightlyActiveMinutes</th>\n",
       "      <th id=\"T_756e7_level0_col11\" class=\"col_heading level0 col11\" >SedentaryMinutes</th>\n",
       "      <th id=\"T_756e7_level0_col12\" class=\"col_heading level0 col12\" >Calories</th>\n",
       "      <th id=\"T_756e7_level0_col13\" class=\"col_heading level0 col13\" >TotalSleepRecords</th>\n",
       "      <th id=\"T_756e7_level0_col14\" class=\"col_heading level0 col14\" >TotalMinutesAsleep</th>\n",
       "      <th id=\"T_756e7_level0_col15\" class=\"col_heading level0 col15\" >TotalTimeInBed</th>\n",
       "    </tr>\n",
       "  </thead>\n",
       "  <tbody>\n",
       "    <tr>\n",
       "      <th id=\"T_756e7_level0_row0\" class=\"row_heading level0 row0\" >TotalSteps</th>\n",
       "      <td id=\"T_756e7_row0_col0\" class=\"data row0 col0\" >1.000000</td>\n",
       "      <td id=\"T_756e7_row0_col1\" class=\"data row0 col1\" >0.981754</td>\n",
       "      <td id=\"T_756e7_row0_col2\" class=\"data row0 col2\" >0.981882</td>\n",
       "      <td id=\"T_756e7_row0_col3\" class=\"data row0 col3\" >0.114445</td>\n",
       "      <td id=\"T_756e7_row0_col4\" class=\"data row0 col4\" >0.680577</td>\n",
       "      <td id=\"T_756e7_row0_col5\" class=\"data row0 col5\" >0.579193</td>\n",
       "      <td id=\"T_756e7_row0_col6\" class=\"data row0 col6\" >0.584523</td>\n",
       "      <td id=\"T_756e7_row0_col7\" class=\"data row0 col7\" >0.047496</td>\n",
       "      <td id=\"T_756e7_row0_col8\" class=\"data row0 col8\" >0.543694</td>\n",
       "      <td id=\"T_756e7_row0_col9\" class=\"data row0 col9\" >0.568696</td>\n",
       "      <td id=\"T_756e7_row0_col10\" class=\"data row0 col10\" >0.417457</td>\n",
       "      <td id=\"T_756e7_row0_col11\" class=\"data row0 col11\" >-0.130036</td>\n",
       "      <td id=\"T_756e7_row0_col12\" class=\"data row0 col12\" >0.406301</td>\n",
       "      <td id=\"T_756e7_row0_col13\" class=\"data row0 col13\" >-0.160958</td>\n",
       "      <td id=\"T_756e7_row0_col14\" class=\"data row0 col14\" >-0.190344</td>\n",
       "      <td id=\"T_756e7_row0_col15\" class=\"data row0 col15\" >-0.166232</td>\n",
       "    </tr>\n",
       "    <tr>\n",
       "      <th id=\"T_756e7_level0_row1\" class=\"row_heading level0 row1\" >TotalDistance</th>\n",
       "      <td id=\"T_756e7_row1_col0\" class=\"data row1 col0\" >0.981754</td>\n",
       "      <td id=\"T_756e7_row1_col1\" class=\"data row1 col1\" >1.000000</td>\n",
       "      <td id=\"T_756e7_row1_col2\" class=\"data row1 col2\" >0.999555</td>\n",
       "      <td id=\"T_756e7_row1_col3\" class=\"data row1 col3\" >0.167702</td>\n",
       "      <td id=\"T_756e7_row1_col4\" class=\"data row1 col4\" >0.707756</td>\n",
       "      <td id=\"T_756e7_row1_col5\" class=\"data row1 col5\" >0.558520</td>\n",
       "      <td id=\"T_756e7_row1_col6\" class=\"data row1 col6\" >0.593849</td>\n",
       "      <td id=\"T_756e7_row1_col7\" class=\"data row1 col7\" >0.060302</td>\n",
       "      <td id=\"T_756e7_row1_col8\" class=\"data row1 col8\" >0.577577</td>\n",
       "      <td id=\"T_756e7_row1_col9\" class=\"data row1 col9\" >0.549035</td>\n",
       "      <td id=\"T_756e7_row1_col10\" class=\"data row1 col10\" >0.384718</td>\n",
       "      <td id=\"T_756e7_row1_col11\" class=\"data row1 col11\" >-0.126667</td>\n",
       "      <td id=\"T_756e7_row1_col12\" class=\"data row1 col12\" >0.521216</td>\n",
       "      <td id=\"T_756e7_row1_col13\" class=\"data row1 col13\" >-0.142386</td>\n",
       "      <td id=\"T_756e7_row1_col14\" class=\"data row1 col14\" >-0.176936</td>\n",
       "      <td id=\"T_756e7_row1_col15\" class=\"data row1 col15\" >-0.161177</td>\n",
       "    </tr>\n",
       "    <tr>\n",
       "      <th id=\"T_756e7_level0_row2\" class=\"row_heading level0 row2\" >TrackerDistance</th>\n",
       "      <td id=\"T_756e7_row2_col0\" class=\"data row2 col0\" >0.981882</td>\n",
       "      <td id=\"T_756e7_row2_col1\" class=\"data row2 col1\" >0.999555</td>\n",
       "      <td id=\"T_756e7_row2_col2\" class=\"data row2 col2\" >1.000000</td>\n",
       "      <td id=\"T_756e7_row2_col3\" class=\"data row2 col3\" >0.155386</td>\n",
       "      <td id=\"T_756e7_row2_col4\" class=\"data row2 col4\" >0.706803</td>\n",
       "      <td id=\"T_756e7_row2_col5\" class=\"data row2 col5\" >0.557224</td>\n",
       "      <td id=\"T_756e7_row2_col6\" class=\"data row2 col6\" >0.594945</td>\n",
       "      <td id=\"T_756e7_row2_col7\" class=\"data row2 col7\" >0.040165</td>\n",
       "      <td id=\"T_756e7_row2_col8\" class=\"data row2 col8\" >0.577270</td>\n",
       "      <td id=\"T_756e7_row2_col9\" class=\"data row2 col9\" >0.549189</td>\n",
       "      <td id=\"T_756e7_row2_col10\" class=\"data row2 col10\" >0.385231</td>\n",
       "      <td id=\"T_756e7_row2_col11\" class=\"data row2 col11\" >-0.126735</td>\n",
       "      <td id=\"T_756e7_row2_col12\" class=\"data row2 col12\" >0.522476</td>\n",
       "      <td id=\"T_756e7_row2_col13\" class=\"data row2 col13\" >-0.142034</td>\n",
       "      <td id=\"T_756e7_row2_col14\" class=\"data row2 col14\" >-0.177597</td>\n",
       "      <td id=\"T_756e7_row2_col15\" class=\"data row2 col15\" >-0.161365</td>\n",
       "    </tr>\n",
       "    <tr>\n",
       "      <th id=\"T_756e7_level0_row3\" class=\"row_heading level0 row3\" >LoggedActivitiesDistance</th>\n",
       "      <td id=\"T_756e7_row3_col0\" class=\"data row3 col0\" >0.114445</td>\n",
       "      <td id=\"T_756e7_row3_col1\" class=\"data row3 col1\" >0.167702</td>\n",
       "      <td id=\"T_756e7_row3_col2\" class=\"data row3 col2\" >0.155386</td>\n",
       "      <td id=\"T_756e7_row3_col3\" class=\"data row3 col3\" >1.000000</td>\n",
       "      <td id=\"T_756e7_row3_col4\" class=\"data row3 col4\" >0.188360</td>\n",
       "      <td id=\"T_756e7_row3_col5\" class=\"data row3 col5\" >0.027699</td>\n",
       "      <td id=\"T_756e7_row3_col6\" class=\"data row3 col6\" >0.064252</td>\n",
       "      <td id=\"T_756e7_row3_col7\" class=\"data row3 col7\" >0.382115</td>\n",
       "      <td id=\"T_756e7_row3_col8\" class=\"data row3 col8\" >0.335360</td>\n",
       "      <td id=\"T_756e7_row3_col9\" class=\"data row3 col9\" >-0.022316</td>\n",
       "      <td id=\"T_756e7_row3_col10\" class=\"data row3 col10\" >-0.084102</td>\n",
       "      <td id=\"T_756e7_row3_col11\" class=\"data row3 col11\" >0.025246</td>\n",
       "      <td id=\"T_756e7_row3_col12\" class=\"data row3 col12\" >0.313227</td>\n",
       "      <td id=\"T_756e7_row3_col13\" class=\"data row3 col13\" >-0.045240</td>\n",
       "      <td id=\"T_756e7_row3_col14\" class=\"data row3 col14\" >-0.038857</td>\n",
       "      <td id=\"T_756e7_row3_col15\" class=\"data row3 col15\" >-0.058198</td>\n",
       "    </tr>\n",
       "    <tr>\n",
       "      <th id=\"T_756e7_level0_row4\" class=\"row_heading level0 row4\" >VeryActiveDistance</th>\n",
       "      <td id=\"T_756e7_row4_col0\" class=\"data row4 col0\" >0.680577</td>\n",
       "      <td id=\"T_756e7_row4_col1\" class=\"data row4 col1\" >0.707756</td>\n",
       "      <td id=\"T_756e7_row4_col2\" class=\"data row4 col2\" >0.706803</td>\n",
       "      <td id=\"T_756e7_row4_col3\" class=\"data row4 col3\" >0.188360</td>\n",
       "      <td id=\"T_756e7_row4_col4\" class=\"data row4 col4\" >1.000000</td>\n",
       "      <td id=\"T_756e7_row4_col5\" class=\"data row4 col5\" >0.229584</td>\n",
       "      <td id=\"T_756e7_row4_col6\" class=\"data row4 col6\" >-0.034921</td>\n",
       "      <td id=\"T_756e7_row4_col7\" class=\"data row4 col7\" >0.052946</td>\n",
       "      <td id=\"T_756e7_row4_col8\" class=\"data row4 col8\" >0.848889</td>\n",
       "      <td id=\"T_756e7_row4_col9\" class=\"data row4 col9\" >0.290873</td>\n",
       "      <td id=\"T_756e7_row4_col10\" class=\"data row4 col10\" >-0.164582</td>\n",
       "      <td id=\"T_756e7_row4_col11\" class=\"data row4 col11\" >0.007170</td>\n",
       "      <td id=\"T_756e7_row4_col12\" class=\"data row4 col12\" >0.439302</td>\n",
       "      <td id=\"T_756e7_row4_col13\" class=\"data row4 col13\" >-0.094602</td>\n",
       "      <td id=\"T_756e7_row4_col14\" class=\"data row4 col14\" >-0.102781</td>\n",
       "      <td id=\"T_756e7_row4_col15\" class=\"data row4 col15\" >-0.110379</td>\n",
       "    </tr>\n",
       "    <tr>\n",
       "      <th id=\"T_756e7_level0_row5\" class=\"row_heading level0 row5\" >ModeratelyActiveDistance</th>\n",
       "      <td id=\"T_756e7_row5_col0\" class=\"data row5 col0\" >0.579193</td>\n",
       "      <td id=\"T_756e7_row5_col1\" class=\"data row5 col1\" >0.558520</td>\n",
       "      <td id=\"T_756e7_row5_col2\" class=\"data row5 col2\" >0.557224</td>\n",
       "      <td id=\"T_756e7_row5_col3\" class=\"data row5 col3\" >0.027699</td>\n",
       "      <td id=\"T_756e7_row5_col4\" class=\"data row5 col4\" >0.229584</td>\n",
       "      <td id=\"T_756e7_row5_col5\" class=\"data row5 col5\" >1.000000</td>\n",
       "      <td id=\"T_756e7_row5_col6\" class=\"data row5 col6\" >0.145856</td>\n",
       "      <td id=\"T_756e7_row5_col7\" class=\"data row5 col7\" >0.065868</td>\n",
       "      <td id=\"T_756e7_row5_col8\" class=\"data row5 col8\" >0.187885</td>\n",
       "      <td id=\"T_756e7_row5_col9\" class=\"data row5 col9\" >0.945192</td>\n",
       "      <td id=\"T_756e7_row5_col10\" class=\"data row5 col10\" >0.025645</td>\n",
       "      <td id=\"T_756e7_row5_col11\" class=\"data row5 col11\" >-0.041780</td>\n",
       "      <td id=\"T_756e7_row5_col12\" class=\"data row5 col12\" >0.071514</td>\n",
       "      <td id=\"T_756e7_row5_col13\" class=\"data row5 col13\" >-0.062232</td>\n",
       "      <td id=\"T_756e7_row5_col14\" class=\"data row5 col14\" >-0.244494</td>\n",
       "      <td id=\"T_756e7_row5_col15\" class=\"data row5 col15\" >-0.098495</td>\n",
       "    </tr>\n",
       "    <tr>\n",
       "      <th id=\"T_756e7_level0_row6\" class=\"row_heading level0 row6\" >LightActiveDistance</th>\n",
       "      <td id=\"T_756e7_row6_col0\" class=\"data row6 col0\" >0.584523</td>\n",
       "      <td id=\"T_756e7_row6_col1\" class=\"data row6 col1\" >0.593849</td>\n",
       "      <td id=\"T_756e7_row6_col2\" class=\"data row6 col2\" >0.594945</td>\n",
       "      <td id=\"T_756e7_row6_col3\" class=\"data row6 col3\" >0.064252</td>\n",
       "      <td id=\"T_756e7_row6_col4\" class=\"data row6 col4\" >-0.034921</td>\n",
       "      <td id=\"T_756e7_row6_col5\" class=\"data row6 col5\" >0.145856</td>\n",
       "      <td id=\"T_756e7_row6_col6\" class=\"data row6 col6\" >1.000000</td>\n",
       "      <td id=\"T_756e7_row6_col7\" class=\"data row6 col7\" >0.002875</td>\n",
       "      <td id=\"T_756e7_row6_col8\" class=\"data row6 col8\" >-0.064268</td>\n",
       "      <td id=\"T_756e7_row6_col9\" class=\"data row6 col9\" >0.085190</td>\n",
       "      <td id=\"T_756e7_row6_col10\" class=\"data row6 col10\" >0.852457</td>\n",
       "      <td id=\"T_756e7_row6_col11\" class=\"data row6 col11\" >-0.209715</td>\n",
       "      <td id=\"T_756e7_row6_col12\" class=\"data row6 col12\" >0.335522</td>\n",
       "      <td id=\"T_756e7_row6_col13\" class=\"data row6 col13\" >-0.100241</td>\n",
       "      <td id=\"T_756e7_row6_col14\" class=\"data row6 col14\" >-0.050131</td>\n",
       "      <td id=\"T_756e7_row6_col15\" class=\"data row6 col15\" >-0.097961</td>\n",
       "    </tr>\n",
       "    <tr>\n",
       "      <th id=\"T_756e7_level0_row7\" class=\"row_heading level0 row7\" >SedentaryActiveDistance</th>\n",
       "      <td id=\"T_756e7_row7_col0\" class=\"data row7 col0\" >0.047496</td>\n",
       "      <td id=\"T_756e7_row7_col1\" class=\"data row7 col1\" >0.060302</td>\n",
       "      <td id=\"T_756e7_row7_col2\" class=\"data row7 col2\" >0.040165</td>\n",
       "      <td id=\"T_756e7_row7_col3\" class=\"data row7 col3\" >0.382115</td>\n",
       "      <td id=\"T_756e7_row7_col4\" class=\"data row7 col4\" >0.052946</td>\n",
       "      <td id=\"T_756e7_row7_col5\" class=\"data row7 col5\" >0.065868</td>\n",
       "      <td id=\"T_756e7_row7_col6\" class=\"data row7 col6\" >0.002875</td>\n",
       "      <td id=\"T_756e7_row7_col7\" class=\"data row7 col7\" >1.000000</td>\n",
       "      <td id=\"T_756e7_row7_col8\" class=\"data row7 col8\" >0.019218</td>\n",
       "      <td id=\"T_756e7_row7_col9\" class=\"data row7 col9\" >0.027612</td>\n",
       "      <td id=\"T_756e7_row7_col10\" class=\"data row7 col10\" >0.006118</td>\n",
       "      <td id=\"T_756e7_row7_col11\" class=\"data row7 col11\" >0.037461</td>\n",
       "      <td id=\"T_756e7_row7_col12\" class=\"data row7 col12\" >0.028459</td>\n",
       "      <td id=\"T_756e7_row7_col13\" class=\"data row7 col13\" >-0.036885</td>\n",
       "      <td id=\"T_756e7_row7_col14\" class=\"data row7 col14\" >-0.038505</td>\n",
       "      <td id=\"T_756e7_row7_col15\" class=\"data row7 col15\" >-0.054456</td>\n",
       "    </tr>\n",
       "    <tr>\n",
       "      <th id=\"T_756e7_level0_row8\" class=\"row_heading level0 row8\" >VeryActiveMinutes</th>\n",
       "      <td id=\"T_756e7_row8_col0\" class=\"data row8 col0\" >0.543694</td>\n",
       "      <td id=\"T_756e7_row8_col1\" class=\"data row8 col1\" >0.577577</td>\n",
       "      <td id=\"T_756e7_row8_col2\" class=\"data row8 col2\" >0.577270</td>\n",
       "      <td id=\"T_756e7_row8_col3\" class=\"data row8 col3\" >0.335360</td>\n",
       "      <td id=\"T_756e7_row8_col4\" class=\"data row8 col4\" >0.848889</td>\n",
       "      <td id=\"T_756e7_row8_col5\" class=\"data row8 col5\" >0.187885</td>\n",
       "      <td id=\"T_756e7_row8_col6\" class=\"data row8 col6\" >-0.064268</td>\n",
       "      <td id=\"T_756e7_row8_col7\" class=\"data row8 col7\" >0.019218</td>\n",
       "      <td id=\"T_756e7_row8_col8\" class=\"data row8 col8\" >1.000000</td>\n",
       "      <td id=\"T_756e7_row8_col9\" class=\"data row8 col9\" >0.322896</td>\n",
       "      <td id=\"T_756e7_row8_col10\" class=\"data row8 col10\" >-0.204874</td>\n",
       "      <td id=\"T_756e7_row8_col11\" class=\"data row8 col11\" >-0.016484</td>\n",
       "      <td id=\"T_756e7_row8_col12\" class=\"data row8 col12\" >0.611198</td>\n",
       "      <td id=\"T_756e7_row8_col13\" class=\"data row8 col13\" >-0.119434</td>\n",
       "      <td id=\"T_756e7_row8_col14\" class=\"data row8 col14\" >-0.088127</td>\n",
       "      <td id=\"T_756e7_row8_col15\" class=\"data row8 col15\" >-0.109623</td>\n",
       "    </tr>\n",
       "    <tr>\n",
       "      <th id=\"T_756e7_level0_row9\" class=\"row_heading level0 row9\" >FairlyActiveMinutes</th>\n",
       "      <td id=\"T_756e7_row9_col0\" class=\"data row9 col0\" >0.568696</td>\n",
       "      <td id=\"T_756e7_row9_col1\" class=\"data row9 col1\" >0.549035</td>\n",
       "      <td id=\"T_756e7_row9_col2\" class=\"data row9 col2\" >0.549189</td>\n",
       "      <td id=\"T_756e7_row9_col3\" class=\"data row9 col3\" >-0.022316</td>\n",
       "      <td id=\"T_756e7_row9_col4\" class=\"data row9 col4\" >0.290873</td>\n",
       "      <td id=\"T_756e7_row9_col5\" class=\"data row9 col5\" >0.945192</td>\n",
       "      <td id=\"T_756e7_row9_col6\" class=\"data row9 col6\" >0.085190</td>\n",
       "      <td id=\"T_756e7_row9_col7\" class=\"data row9 col7\" >0.027612</td>\n",
       "      <td id=\"T_756e7_row9_col8\" class=\"data row9 col8\" >0.322896</td>\n",
       "      <td id=\"T_756e7_row9_col9\" class=\"data row9 col9\" >1.000000</td>\n",
       "      <td id=\"T_756e7_row9_col10\" class=\"data row9 col10\" >-0.018999</td>\n",
       "      <td id=\"T_756e7_row9_col11\" class=\"data row9 col11\" >-0.040954</td>\n",
       "      <td id=\"T_756e7_row9_col12\" class=\"data row9 col12\" >0.175988</td>\n",
       "      <td id=\"T_756e7_row9_col13\" class=\"data row9 col13\" >-0.076862</td>\n",
       "      <td id=\"T_756e7_row9_col14\" class=\"data row9 col14\" >-0.249208</td>\n",
       "      <td id=\"T_756e7_row9_col15\" class=\"data row9 col15\" >-0.114358</td>\n",
       "    </tr>\n",
       "    <tr>\n",
       "      <th id=\"T_756e7_level0_row10\" class=\"row_heading level0 row10\" >LightlyActiveMinutes</th>\n",
       "      <td id=\"T_756e7_row10_col0\" class=\"data row10 col0\" >0.417457</td>\n",
       "      <td id=\"T_756e7_row10_col1\" class=\"data row10 col1\" >0.384718</td>\n",
       "      <td id=\"T_756e7_row10_col2\" class=\"data row10 col2\" >0.385231</td>\n",
       "      <td id=\"T_756e7_row10_col3\" class=\"data row10 col3\" >-0.084102</td>\n",
       "      <td id=\"T_756e7_row10_col4\" class=\"data row10 col4\" >-0.164582</td>\n",
       "      <td id=\"T_756e7_row10_col5\" class=\"data row10 col5\" >0.025645</td>\n",
       "      <td id=\"T_756e7_row10_col6\" class=\"data row10 col6\" >0.852457</td>\n",
       "      <td id=\"T_756e7_row10_col7\" class=\"data row10 col7\" >0.006118</td>\n",
       "      <td id=\"T_756e7_row10_col8\" class=\"data row10 col8\" >-0.204874</td>\n",
       "      <td id=\"T_756e7_row10_col9\" class=\"data row10 col9\" >-0.018999</td>\n",
       "      <td id=\"T_756e7_row10_col10\" class=\"data row10 col10\" >1.000000</td>\n",
       "      <td id=\"T_756e7_row10_col11\" class=\"data row10 col11\" >-0.261781</td>\n",
       "      <td id=\"T_756e7_row10_col12\" class=\"data row10 col12\" >0.113766</td>\n",
       "      <td id=\"T_756e7_row10_col13\" class=\"data row10 col13\" >-0.072689</td>\n",
       "      <td id=\"T_756e7_row10_col14\" class=\"data row10 col14\" >0.027583</td>\n",
       "      <td id=\"T_756e7_row10_col15\" class=\"data row10 col15\" >-0.028758</td>\n",
       "    </tr>\n",
       "    <tr>\n",
       "      <th id=\"T_756e7_level0_row11\" class=\"row_heading level0 row11\" >SedentaryMinutes</th>\n",
       "      <td id=\"T_756e7_row11_col0\" class=\"data row11 col0\" >-0.130036</td>\n",
       "      <td id=\"T_756e7_row11_col1\" class=\"data row11 col1\" >-0.126667</td>\n",
       "      <td id=\"T_756e7_row11_col2\" class=\"data row11 col2\" >-0.126735</td>\n",
       "      <td id=\"T_756e7_row11_col3\" class=\"data row11 col3\" >0.025246</td>\n",
       "      <td id=\"T_756e7_row11_col4\" class=\"data row11 col4\" >0.007170</td>\n",
       "      <td id=\"T_756e7_row11_col5\" class=\"data row11 col5\" >-0.041780</td>\n",
       "      <td id=\"T_756e7_row11_col6\" class=\"data row11 col6\" >-0.209715</td>\n",
       "      <td id=\"T_756e7_row11_col7\" class=\"data row11 col7\" >0.037461</td>\n",
       "      <td id=\"T_756e7_row11_col8\" class=\"data row11 col8\" >-0.016484</td>\n",
       "      <td id=\"T_756e7_row11_col9\" class=\"data row11 col9\" >-0.040954</td>\n",
       "      <td id=\"T_756e7_row11_col10\" class=\"data row11 col10\" >-0.261781</td>\n",
       "      <td id=\"T_756e7_row11_col11\" class=\"data row11 col11\" >1.000000</td>\n",
       "      <td id=\"T_756e7_row11_col12\" class=\"data row11 col12\" >0.098656</td>\n",
       "      <td id=\"T_756e7_row11_col13\" class=\"data row11 col13\" >-0.041847</td>\n",
       "      <td id=\"T_756e7_row11_col14\" class=\"data row11 col14\" >-0.601073</td>\n",
       "      <td id=\"T_756e7_row11_col15\" class=\"data row11 col15\" >-0.620280</td>\n",
       "    </tr>\n",
       "    <tr>\n",
       "      <th id=\"T_756e7_level0_row12\" class=\"row_heading level0 row12\" >Calories</th>\n",
       "      <td id=\"T_756e7_row12_col0\" class=\"data row12 col0\" >0.406301</td>\n",
       "      <td id=\"T_756e7_row12_col1\" class=\"data row12 col1\" >0.521216</td>\n",
       "      <td id=\"T_756e7_row12_col2\" class=\"data row12 col2\" >0.522476</td>\n",
       "      <td id=\"T_756e7_row12_col3\" class=\"data row12 col3\" >0.313227</td>\n",
       "      <td id=\"T_756e7_row12_col4\" class=\"data row12 col4\" >0.439302</td>\n",
       "      <td id=\"T_756e7_row12_col5\" class=\"data row12 col5\" >0.071514</td>\n",
       "      <td id=\"T_756e7_row12_col6\" class=\"data row12 col6\" >0.335522</td>\n",
       "      <td id=\"T_756e7_row12_col7\" class=\"data row12 col7\" >0.028459</td>\n",
       "      <td id=\"T_756e7_row12_col8\" class=\"data row12 col8\" >0.611198</td>\n",
       "      <td id=\"T_756e7_row12_col9\" class=\"data row12 col9\" >0.175988</td>\n",
       "      <td id=\"T_756e7_row12_col10\" class=\"data row12 col10\" >0.113766</td>\n",
       "      <td id=\"T_756e7_row12_col11\" class=\"data row12 col11\" >0.098656</td>\n",
       "      <td id=\"T_756e7_row12_col12\" class=\"data row12 col12\" >1.000000</td>\n",
       "      <td id=\"T_756e7_row12_col13\" class=\"data row12 col13\" >-0.047797</td>\n",
       "      <td id=\"T_756e7_row12_col14\" class=\"data row12 col14\" >-0.031699</td>\n",
       "      <td id=\"T_756e7_row12_col15\" class=\"data row12 col15\" >-0.134805</td>\n",
       "    </tr>\n",
       "    <tr>\n",
       "      <th id=\"T_756e7_level0_row13\" class=\"row_heading level0 row13\" >TotalSleepRecords</th>\n",
       "      <td id=\"T_756e7_row13_col0\" class=\"data row13 col0\" >-0.160958</td>\n",
       "      <td id=\"T_756e7_row13_col1\" class=\"data row13 col1\" >-0.142386</td>\n",
       "      <td id=\"T_756e7_row13_col2\" class=\"data row13 col2\" >-0.142034</td>\n",
       "      <td id=\"T_756e7_row13_col3\" class=\"data row13 col3\" >-0.045240</td>\n",
       "      <td id=\"T_756e7_row13_col4\" class=\"data row13 col4\" >-0.094602</td>\n",
       "      <td id=\"T_756e7_row13_col5\" class=\"data row13 col5\" >-0.062232</td>\n",
       "      <td id=\"T_756e7_row13_col6\" class=\"data row13 col6\" >-0.100241</td>\n",
       "      <td id=\"T_756e7_row13_col7\" class=\"data row13 col7\" >-0.036885</td>\n",
       "      <td id=\"T_756e7_row13_col8\" class=\"data row13 col8\" >-0.119434</td>\n",
       "      <td id=\"T_756e7_row13_col9\" class=\"data row13 col9\" >-0.076862</td>\n",
       "      <td id=\"T_756e7_row13_col10\" class=\"data row13 col10\" >-0.072689</td>\n",
       "      <td id=\"T_756e7_row13_col11\" class=\"data row13 col11\" >-0.041847</td>\n",
       "      <td id=\"T_756e7_row13_col12\" class=\"data row13 col12\" >-0.047797</td>\n",
       "      <td id=\"T_756e7_row13_col13\" class=\"data row13 col13\" >1.000000</td>\n",
       "      <td id=\"T_756e7_row13_col14\" class=\"data row13 col14\" >0.167039</td>\n",
       "      <td id=\"T_756e7_row13_col15\" class=\"data row13 col15\" >0.173568</td>\n",
       "    </tr>\n",
       "    <tr>\n",
       "      <th id=\"T_756e7_level0_row14\" class=\"row_heading level0 row14\" >TotalMinutesAsleep</th>\n",
       "      <td id=\"T_756e7_row14_col0\" class=\"data row14 col0\" >-0.190344</td>\n",
       "      <td id=\"T_756e7_row14_col1\" class=\"data row14 col1\" >-0.176936</td>\n",
       "      <td id=\"T_756e7_row14_col2\" class=\"data row14 col2\" >-0.177597</td>\n",
       "      <td id=\"T_756e7_row14_col3\" class=\"data row14 col3\" >-0.038857</td>\n",
       "      <td id=\"T_756e7_row14_col4\" class=\"data row14 col4\" >-0.102781</td>\n",
       "      <td id=\"T_756e7_row14_col5\" class=\"data row14 col5\" >-0.244494</td>\n",
       "      <td id=\"T_756e7_row14_col6\" class=\"data row14 col6\" >-0.050131</td>\n",
       "      <td id=\"T_756e7_row14_col7\" class=\"data row14 col7\" >-0.038505</td>\n",
       "      <td id=\"T_756e7_row14_col8\" class=\"data row14 col8\" >-0.088127</td>\n",
       "      <td id=\"T_756e7_row14_col9\" class=\"data row14 col9\" >-0.249208</td>\n",
       "      <td id=\"T_756e7_row14_col10\" class=\"data row14 col10\" >0.027583</td>\n",
       "      <td id=\"T_756e7_row14_col11\" class=\"data row14 col11\" >-0.601073</td>\n",
       "      <td id=\"T_756e7_row14_col12\" class=\"data row14 col12\" >-0.031699</td>\n",
       "      <td id=\"T_756e7_row14_col13\" class=\"data row14 col13\" >0.167039</td>\n",
       "      <td id=\"T_756e7_row14_col14\" class=\"data row14 col14\" >1.000000</td>\n",
       "      <td id=\"T_756e7_row14_col15\" class=\"data row14 col15\" >0.930422</td>\n",
       "    </tr>\n",
       "    <tr>\n",
       "      <th id=\"T_756e7_level0_row15\" class=\"row_heading level0 row15\" >TotalTimeInBed</th>\n",
       "      <td id=\"T_756e7_row15_col0\" class=\"data row15 col0\" >-0.166232</td>\n",
       "      <td id=\"T_756e7_row15_col1\" class=\"data row15 col1\" >-0.161177</td>\n",
       "      <td id=\"T_756e7_row15_col2\" class=\"data row15 col2\" >-0.161365</td>\n",
       "      <td id=\"T_756e7_row15_col3\" class=\"data row15 col3\" >-0.058198</td>\n",
       "      <td id=\"T_756e7_row15_col4\" class=\"data row15 col4\" >-0.110379</td>\n",
       "      <td id=\"T_756e7_row15_col5\" class=\"data row15 col5\" >-0.098495</td>\n",
       "      <td id=\"T_756e7_row15_col6\" class=\"data row15 col6\" >-0.097961</td>\n",
       "      <td id=\"T_756e7_row15_col7\" class=\"data row15 col7\" >-0.054456</td>\n",
       "      <td id=\"T_756e7_row15_col8\" class=\"data row15 col8\" >-0.109623</td>\n",
       "      <td id=\"T_756e7_row15_col9\" class=\"data row15 col9\" >-0.114358</td>\n",
       "      <td id=\"T_756e7_row15_col10\" class=\"data row15 col10\" >-0.028758</td>\n",
       "      <td id=\"T_756e7_row15_col11\" class=\"data row15 col11\" >-0.620280</td>\n",
       "      <td id=\"T_756e7_row15_col12\" class=\"data row15 col12\" >-0.134805</td>\n",
       "      <td id=\"T_756e7_row15_col13\" class=\"data row15 col13\" >0.173568</td>\n",
       "      <td id=\"T_756e7_row15_col14\" class=\"data row15 col14\" >0.930422</td>\n",
       "      <td id=\"T_756e7_row15_col15\" class=\"data row15 col15\" >1.000000</td>\n",
       "    </tr>\n",
       "  </tbody>\n",
       "</table>\n"
      ],
      "text/plain": [
       "<pandas.io.formats.style.Styler at 0x2085279b490>"
      ]
     },
     "execution_count": 421,
     "metadata": {},
     "output_type": "execute_result"
    }
   ],
   "source": [
    "# Check correlation\n",
    "correlation_matrix = df.iloc[:, 1:].corr()\n",
    "\n",
    "# Define style\n",
    "def highlight_greater_than_08(value):\n",
    "    if abs(value) > 0.8:\n",
    "        return 'background-color: lightgreen; font-weight: bold'\n",
    "    else:\n",
    "        return ''\n",
    "\n",
    "highlighted_matrix = correlation_matrix.style.applymap(highlight_greater_than_08)\n",
    "highlighted_matrix"
   ]
  },
  {
   "cell_type": "markdown",
   "id": "ca53d5d0",
   "metadata": {},
   "source": [
    "<br>"
   ]
  },
  {
   "cell_type": "markdown",
   "id": "5547b6d8",
   "metadata": {},
   "source": [
    "I determine if they have an active or sedentary lifestyle based on the average number of steps they take. I categorized the lifestyle as:\n",
    "\n",
    "Sedentary - less than 5,000 steps \\\n",
    "Low Active - 5,000 to 7,499 steps \\\n",
    "Somewhat Active - 7,500 to 9,999 steps \\\n",
    "Active - 10,000 to 12,499 steps \\\n",
    "Highly Active - more than 12,500 steps \\\n",
    "The categories were based on Catherine Tudor-Locke et al.'s (2013) [study on sedentary lifestyle index](https://pubmed.ncbi.nlm.nih.gov/23438219/)"
   ]
  },
  {
   "cell_type": "code",
   "execution_count": 422,
   "id": "a24bb029",
   "metadata": {},
   "outputs": [
    {
     "data": {
      "text/html": [
       "<div>\n",
       "<style scoped>\n",
       "    .dataframe tbody tr th:only-of-type {\n",
       "        vertical-align: middle;\n",
       "    }\n",
       "\n",
       "    .dataframe tbody tr th {\n",
       "        vertical-align: top;\n",
       "    }\n",
       "\n",
       "    .dataframe thead th {\n",
       "        text-align: right;\n",
       "    }\n",
       "</style>\n",
       "<table border=\"1\" class=\"dataframe\">\n",
       "  <thead>\n",
       "    <tr style=\"text-align: right;\">\n",
       "      <th></th>\n",
       "      <th>Id</th>\n",
       "      <th>avg_daily_steps</th>\n",
       "      <th>avg_daily_calories</th>\n",
       "    </tr>\n",
       "  </thead>\n",
       "  <tbody>\n",
       "    <tr>\n",
       "      <th>0</th>\n",
       "      <td>1503960366</td>\n",
       "      <td>12405.680000</td>\n",
       "      <td>1872.280000</td>\n",
       "    </tr>\n",
       "    <tr>\n",
       "      <th>1</th>\n",
       "      <td>1644430081</td>\n",
       "      <td>7967.750000</td>\n",
       "      <td>2977.750000</td>\n",
       "    </tr>\n",
       "    <tr>\n",
       "      <th>2</th>\n",
       "      <td>1844505072</td>\n",
       "      <td>3477.000000</td>\n",
       "      <td>1676.333333</td>\n",
       "    </tr>\n",
       "    <tr>\n",
       "      <th>3</th>\n",
       "      <td>1927972279</td>\n",
       "      <td>1490.000000</td>\n",
       "      <td>2316.200000</td>\n",
       "    </tr>\n",
       "    <tr>\n",
       "      <th>4</th>\n",
       "      <td>2026352035</td>\n",
       "      <td>5618.678571</td>\n",
       "      <td>1540.785714</td>\n",
       "    </tr>\n",
       "    <tr>\n",
       "      <th>5</th>\n",
       "      <td>2320127002</td>\n",
       "      <td>5079.000000</td>\n",
       "      <td>1804.000000</td>\n",
       "    </tr>\n",
       "    <tr>\n",
       "      <th>6</th>\n",
       "      <td>2347167796</td>\n",
       "      <td>8533.200000</td>\n",
       "      <td>1971.333333</td>\n",
       "    </tr>\n",
       "    <tr>\n",
       "      <th>7</th>\n",
       "      <td>3977333714</td>\n",
       "      <td>11218.000000</td>\n",
       "      <td>1560.392857</td>\n",
       "    </tr>\n",
       "    <tr>\n",
       "      <th>8</th>\n",
       "      <td>4020332650</td>\n",
       "      <td>6596.750000</td>\n",
       "      <td>3195.000000</td>\n",
       "    </tr>\n",
       "    <tr>\n",
       "      <th>9</th>\n",
       "      <td>4319703577</td>\n",
       "      <td>7125.423077</td>\n",
       "      <td>2024.692308</td>\n",
       "    </tr>\n",
       "    <tr>\n",
       "      <th>10</th>\n",
       "      <td>4388161847</td>\n",
       "      <td>11034.347826</td>\n",
       "      <td>3141.739130</td>\n",
       "    </tr>\n",
       "    <tr>\n",
       "      <th>11</th>\n",
       "      <td>4445114986</td>\n",
       "      <td>4756.178571</td>\n",
       "      <td>2183.142857</td>\n",
       "    </tr>\n",
       "    <tr>\n",
       "      <th>12</th>\n",
       "      <td>4558609924</td>\n",
       "      <td>8139.000000</td>\n",
       "      <td>2197.000000</td>\n",
       "    </tr>\n",
       "    <tr>\n",
       "      <th>13</th>\n",
       "      <td>4702921684</td>\n",
       "      <td>9035.851852</td>\n",
       "      <td>3019.555556</td>\n",
       "    </tr>\n",
       "    <tr>\n",
       "      <th>14</th>\n",
       "      <td>5553957443</td>\n",
       "      <td>8612.580645</td>\n",
       "      <td>1875.677419</td>\n",
       "    </tr>\n",
       "    <tr>\n",
       "      <th>15</th>\n",
       "      <td>5577150313</td>\n",
       "      <td>9260.076923</td>\n",
       "      <td>3539.192308</td>\n",
       "    </tr>\n",
       "    <tr>\n",
       "      <th>16</th>\n",
       "      <td>6117666160</td>\n",
       "      <td>8823.833333</td>\n",
       "      <td>2460.833333</td>\n",
       "    </tr>\n",
       "    <tr>\n",
       "      <th>17</th>\n",
       "      <td>6775888955</td>\n",
       "      <td>3499.000000</td>\n",
       "      <td>2344.666667</td>\n",
       "    </tr>\n",
       "    <tr>\n",
       "      <th>18</th>\n",
       "      <td>6962181067</td>\n",
       "      <td>9794.806452</td>\n",
       "      <td>1982.032258</td>\n",
       "    </tr>\n",
       "    <tr>\n",
       "      <th>19</th>\n",
       "      <td>7007744171</td>\n",
       "      <td>5115.500000</td>\n",
       "      <td>2150.500000</td>\n",
       "    </tr>\n",
       "    <tr>\n",
       "      <th>20</th>\n",
       "      <td>7086361926</td>\n",
       "      <td>10290.500000</td>\n",
       "      <td>2657.625000</td>\n",
       "    </tr>\n",
       "    <tr>\n",
       "      <th>21</th>\n",
       "      <td>8053475328</td>\n",
       "      <td>19078.666667</td>\n",
       "      <td>3309.333333</td>\n",
       "    </tr>\n",
       "    <tr>\n",
       "      <th>22</th>\n",
       "      <td>8378563200</td>\n",
       "      <td>8717.709677</td>\n",
       "      <td>3436.580645</td>\n",
       "    </tr>\n",
       "    <tr>\n",
       "      <th>23</th>\n",
       "      <td>8792009665</td>\n",
       "      <td>3443.266667</td>\n",
       "      <td>2299.333333</td>\n",
       "    </tr>\n",
       "  </tbody>\n",
       "</table>\n",
       "</div>"
      ],
      "text/plain": [
       "            Id  avg_daily_steps  avg_daily_calories\n",
       "0   1503960366     12405.680000         1872.280000\n",
       "1   1644430081      7967.750000         2977.750000\n",
       "2   1844505072      3477.000000         1676.333333\n",
       "3   1927972279      1490.000000         2316.200000\n",
       "4   2026352035      5618.678571         1540.785714\n",
       "5   2320127002      5079.000000         1804.000000\n",
       "6   2347167796      8533.200000         1971.333333\n",
       "7   3977333714     11218.000000         1560.392857\n",
       "8   4020332650      6596.750000         3195.000000\n",
       "9   4319703577      7125.423077         2024.692308\n",
       "10  4388161847     11034.347826         3141.739130\n",
       "11  4445114986      4756.178571         2183.142857\n",
       "12  4558609924      8139.000000         2197.000000\n",
       "13  4702921684      9035.851852         3019.555556\n",
       "14  5553957443      8612.580645         1875.677419\n",
       "15  5577150313      9260.076923         3539.192308\n",
       "16  6117666160      8823.833333         2460.833333\n",
       "17  6775888955      3499.000000         2344.666667\n",
       "18  6962181067      9794.806452         1982.032258\n",
       "19  7007744171      5115.500000         2150.500000\n",
       "20  7086361926     10290.500000         2657.625000\n",
       "21  8053475328     19078.666667         3309.333333\n",
       "22  8378563200      8717.709677         3436.580645\n",
       "23  8792009665      3443.266667         2299.333333"
      ]
     },
     "execution_count": 422,
     "metadata": {},
     "output_type": "execute_result"
    }
   ],
   "source": [
    "daily_average = df.groupby('Id').agg(avg_daily_steps=('TotalSteps', 'mean'),\n",
    "                                                 avg_daily_calories=('Calories', 'mean')).reset_index()\n",
    "daily_average"
   ]
  },
  {
   "cell_type": "code",
   "execution_count": 423,
   "id": "9f2543ca",
   "metadata": {},
   "outputs": [],
   "source": [
    "def map_lifestyle(steps):\n",
    "    if steps < 5000:\n",
    "        return \"sedentary\"\n",
    "    elif 5000 <= steps < 7500:\n",
    "        return \"low active\"\n",
    "    elif 7500 <= steps < 10000:\n",
    "        return \"somewhat active\"\n",
    "    elif steps >= 10000:\n",
    "        return \"active\"\n",
    "    elif steps >= 12500:\n",
    "        return \"highly active\""
   ]
  },
  {
   "cell_type": "code",
   "execution_count": 187,
   "id": "a947d832",
   "metadata": {},
   "outputs": [
    {
     "data": {
      "text/html": [
       "<div>\n",
       "<style scoped>\n",
       "    .dataframe tbody tr th:only-of-type {\n",
       "        vertical-align: middle;\n",
       "    }\n",
       "\n",
       "    .dataframe tbody tr th {\n",
       "        vertical-align: top;\n",
       "    }\n",
       "\n",
       "    .dataframe thead th {\n",
       "        text-align: right;\n",
       "    }\n",
       "</style>\n",
       "<table border=\"1\" class=\"dataframe\">\n",
       "  <thead>\n",
       "    <tr style=\"text-align: right;\">\n",
       "      <th></th>\n",
       "      <th>Id</th>\n",
       "      <th>avg_daily_steps</th>\n",
       "      <th>avg_daily_calories</th>\n",
       "      <th>lifestyle</th>\n",
       "    </tr>\n",
       "  </thead>\n",
       "  <tbody>\n",
       "    <tr>\n",
       "      <th>0</th>\n",
       "      <td>1503960366</td>\n",
       "      <td>14915.000000</td>\n",
       "      <td>1997.000000</td>\n",
       "      <td>Active</td>\n",
       "    </tr>\n",
       "    <tr>\n",
       "      <th>1</th>\n",
       "      <td>1927972279</td>\n",
       "      <td>356.000000</td>\n",
       "      <td>2151.000000</td>\n",
       "      <td>Sedentary</td>\n",
       "    </tr>\n",
       "    <tr>\n",
       "      <th>2</th>\n",
       "      <td>4558609924</td>\n",
       "      <td>3428.000000</td>\n",
       "      <td>1692.000000</td>\n",
       "      <td>Sedentary</td>\n",
       "    </tr>\n",
       "    <tr>\n",
       "      <th>3</th>\n",
       "      <td>5577150313</td>\n",
       "      <td>12231.000000</td>\n",
       "      <td>4552.000000</td>\n",
       "      <td>Active</td>\n",
       "    </tr>\n",
       "    <tr>\n",
       "      <th>4</th>\n",
       "      <td>6962181067</td>\n",
       "      <td>9773.533333</td>\n",
       "      <td>1981.033333</td>\n",
       "      <td>Somewhat active</td>\n",
       "    </tr>\n",
       "  </tbody>\n",
       "</table>\n",
       "</div>"
      ],
      "text/plain": [
       "           Id  avg_daily_steps  avg_daily_calories        lifestyle\n",
       "0  1503960366     14915.000000         1997.000000           Active\n",
       "1  1927972279       356.000000         2151.000000        Sedentary\n",
       "2  4558609924      3428.000000         1692.000000        Sedentary\n",
       "3  5577150313     12231.000000         4552.000000           Active\n",
       "4  6962181067      9773.533333         1981.033333  Somewhat active"
      ]
     },
     "execution_count": 187,
     "metadata": {},
     "output_type": "execute_result"
    }
   ],
   "source": [
    "daily_average['lifestyle'] = np.select(\n",
    "    [daily_average['avg_daily_steps'] < 5000,\n",
    "     (daily_average['avg_daily_steps'] >= 5000) & (daily_average['avg_daily_steps'] < 7500),\n",
    "     (daily_average['avg_daily_steps'] >= 7500) & (daily_average['avg_daily_steps'] < 10000),\n",
    "     daily_average['avg_daily_steps'] >= 10000,\n",
    "     daily_average['avg_daily_steps'] >= 12500],\n",
    "    ['Sedentary', 'Low active', 'Somewhat active', 'Active', 'Highly active'])\n",
    "daily_average"
   ]
  },
  {
   "cell_type": "code",
   "execution_count": 188,
   "id": "992977ee",
   "metadata": {},
   "outputs": [
    {
     "data": {
      "image/png": "[encoded data removed]",
      "text/plain": [
       "<Figure size 576x576 with 1 Axes>"
      ]
     },
     "metadata": {},
     "output_type": "display_data"
    }
   ],
   "source": [
    "# Visualize\n",
    "d = daily_average['lifestyle'].value_counts()\n",
    "\n",
    "plt.figure(figsize=(8, 8))\n",
    "_, _, autotexts = plt.pie(d, labels=d.index, autopct='%1.0f%%', startangle=140,colors = plt.cm.Set1.colors,\n",
    "                          textprops={'fontsize': 14})\n",
    "for autotext in autotexts:\n",
    "    autotext.set_fontweight('bold')\n",
    "plt.title('User lifestyle', fontsize=18)\n",
    "plt.axis('equal')\n",
    "plt.show()"
   ]
  },
  {
   "cell_type": "markdown",
   "id": "0d17e02e",
   "metadata": {},
   "source": [
    "The data suggests that the majority of users are evenly divided between the \"active\" and \"sedentary\" groups, with only a small number of individuals being \"somewhat\" active. The absence of users in the \"highly active\" category may indicate that users in this sample do not achieve a very high level of physical activity."
   ]
  },
  {
   "cell_type": "markdown",
   "id": "35dbcc6b",
   "metadata": {},
   "source": [
    "<br>"
   ]
  },
  {
   "cell_type": "markdown",
   "id": "67172e81",
   "metadata": {},
   "source": [
    "#### Relationship between Totalsteps and SedentaryMinutes"
   ]
  },
  {
   "cell_type": "code",
   "execution_count": 189,
   "id": "10949d69",
   "metadata": {},
   "outputs": [
    {
     "data": {
      "text/plain": [
       "<matplotlib.legend.Legend at 0x208430bf640>"
      ]
     },
     "execution_count": 189,
     "metadata": {},
     "output_type": "execute_result"
    },
    {
     "data": {
      "image/png": "[encoded data removed]",
      "text/plain": [
       "<Figure size 720x432 with 1 Axes>"
      ]
     },
     "metadata": {
      "needs_background": "light"
     },
     "output_type": "display_data"
    }
   ],
   "source": [
    "plt.figure(figsize=(10, 6))\n",
    "sns.scatterplot(data=df, x='TotalSteps', y='SedentaryMinutes', size='TotalSteps', hue='TotalSteps')\n",
    "\n",
    "# Dodanie adnotacji\n",
    "plt.text(10000, 350, \"the greater percentage took more steps\", fontsize=10, rotation=8)\n",
    "\n",
    "# Ustawienia osi i tytułu\n",
    "plt.xlabel('Total Steps')\n",
    "plt.ylabel('Sedentary Minutes')\n",
    "plt.title('Total Steps Vs Sedentary Minutes')\n",
    "\n",
    "# Dodanie legendy\n",
    "plt.legend()"
   ]
  },
  {
   "cell_type": "markdown",
   "id": "89282dbc",
   "metadata": {},
   "source": [
    "Based on the scatter plot, the total steps is more than the sedentary minutes. We can also realize that the higher the total steps the lower the sedentary minutes and vice-versa, if the sedentary minutes is higher the total steps is less. The higher percentage fall in the middle of the plot where sedentary minutes and total steps are balanced. More steps were taken compared to sedentary minutes"
   ]
  },
  {
   "cell_type": "markdown",
   "id": "871ca618",
   "metadata": {},
   "source": [
    "<br>"
   ]
  },
  {
   "cell_type": "code",
   "execution_count": 190,
   "id": "73bfb41f",
   "metadata": {},
   "outputs": [
    {
     "data": {
      "text/plain": [
       "Text(0.5, 1.0, 'Average of Sedentary Minutes and Total Steps')"
      ]
     },
     "execution_count": 190,
     "metadata": {},
     "output_type": "execute_result"
    },
    {
     "data": {
      "image/png": "[encoded data removed]",
      "text/plain": [
       "<Figure size 720x432 with 1 Axes>"
      ]
     },
     "metadata": {
      "needs_background": "light"
     },
     "output_type": "display_data"
    }
   ],
   "source": [
    "plt.figure(figsize=(10, 6))\n",
    "sns.regplot(data=df, x='TotalSteps', y='SedentaryMinutes', scatter_kws={'s': 10}, line_kws={'color': 'red'})\n",
    "\n",
    "# Dodanie adnotacji\n",
    "plt.text(10000, 900, \"average = more steps, less sitting\", fontsize=10, rotation=8)\n",
    "\n",
    "# Ustawienia osi i tytułu\n",
    "plt.xlabel('Total Steps')\n",
    "plt.ylabel('Sedentary Minutes')\n",
    "plt.title('Average of Sedentary Minutes and Total Steps')\n"
   ]
  },
  {
   "cell_type": "markdown",
   "id": "f4e32c04",
   "metadata": {},
   "source": [
    "Based on our average, we can now inform our customer segments on behaviour and physiological ways"
   ]
  },
  {
   "cell_type": "markdown",
   "id": "9e4af2a5",
   "metadata": {},
   "source": [
    "<br>"
   ]
  },
  {
   "cell_type": "markdown",
   "id": "063d5597",
   "metadata": {},
   "source": [
    "#### Total Distance vs. Calories "
   ]
  },
  {
   "cell_type": "code",
   "execution_count": 206,
   "id": "17950790",
   "metadata": {},
   "outputs": [],
   "source": [
    "# Categorizing users\n",
    "daily_sleep['Status'] = pd.cut(daily_sleep['TotalMinutesAsleep'], bins=[0, 200, 350, 500, 800],\n",
    "                            labels=[\"Critical\", \"Very less\", \"Adequate\", \"More than Enough\"])"
   ]
  },
  {
   "cell_type": "code",
   "execution_count": 207,
   "id": "40ae63c8",
   "metadata": {},
   "outputs": [
    {
     "data": {
      "text/plain": [
       "Text(0.5, 1.0, 'Total Distance vs. Calories')"
      ]
     },
     "execution_count": 207,
     "metadata": {},
     "output_type": "execute_result"
    },
    {
     "data": {
      "image/png": "[encoded data removed]",
      "text/plain": [
       "<Figure size 720x432 with 1 Axes>"
      ]
     },
     "metadata": {
      "needs_background": "light"
     },
     "output_type": "display_data"
    }
   ],
   "source": [
    "plt.figure(figsize=(10, 6))\n",
    "sns.scatterplot(data=daily_activity, x='TotalDistance', y='Calories')\n",
    "sns.regplot(data=daily_activity, x='TotalDistance', y='Calories', color='blue', scatter_kws={'color': 'yellow'})\n",
    "plt.xlabel('Total Distance')\n",
    "plt.ylabel('Calories')\n",
    "plt.title('Total Distance vs. Calories')\n"
   ]
  },
  {
   "cell_type": "markdown",
   "id": "0e6df4e0",
   "metadata": {},
   "source": [
    "There is direct corrolation between total distance a preson walks and calories he will burn"
   ]
  },
  {
   "cell_type": "markdown",
   "id": "da58d33a",
   "metadata": {},
   "source": [
    "<br>"
   ]
  },
  {
   "cell_type": "code",
   "execution_count": 200,
   "id": "a3d9b6a4",
   "metadata": {},
   "outputs": [
    {
     "data": {
      "text/plain": [
       "Text(0.5, 1.0, 'Total Minutes Asleep vs. Total Time in Bed')"
      ]
     },
     "execution_count": 200,
     "metadata": {},
     "output_type": "execute_result"
    },
    {
     "data": {
      "image/png": "[encoded data removed]",
      "text/plain": [
       "<Figure size 720x432 with 1 Axes>"
      ]
     },
     "metadata": {
      "needs_background": "light"
     },
     "output_type": "display_data"
    }
   ],
   "source": [
    "plt.figure(figsize=(10, 6))\n",
    "sns.scatterplot(data=daily_sleep, x='TotalMinutesAsleep', y='TotalTimeInBed', hue='Status')\n",
    "sns.regplot(data=daily_sleep, x='TotalMinutesAsleep', y='TotalTimeInBed', scatter=False)\n",
    "plt.xlabel('Total Minutes Asleep')\n",
    "plt.ylabel('Total Time in Bed')\n",
    "plt.title('Total Minutes Asleep vs. Total Time in Bed')"
   ]
  },
  {
   "cell_type": "markdown",
   "id": "eb4fb9fa",
   "metadata": {},
   "source": [
    "It is evident that people who are more in bed tend to be sleeping less proportionally and they get distracted from sleep doing other activities"
   ]
  },
  {
   "cell_type": "markdown",
   "id": "542528d7",
   "metadata": {},
   "source": [
    "<br>"
   ]
  },
  {
   "cell_type": "markdown",
   "id": "45d19fe1",
   "metadata": {},
   "source": [
    "#### Usage Type Distribution"
   ]
  },
  {
   "cell_type": "code",
   "execution_count": 223,
   "id": "9b592357",
   "metadata": {},
   "outputs": [],
   "source": [
    "# Filtering data and calculating the number of active days for each \"Id\"\n",
    "daily_use = daily_activity[daily_activity['TotalSteps'] > 200].groupby('Id').agg(ActivityDate=('Id', 'count')).reset_index()\n",
    "daily_use['Usage'] = pd.cut(daily_use['ActivityDate'], bins=[0, 14, 21, 31], labels=['Low Use', 'Moderate Use', 'High Use'])\n",
    "daily_use['Usage'] = pd.Categorical(daily_use['Usage'], categories=['Low Use', 'Moderate Use', 'High Use'], ordered=True)\n",
    "daily_use = daily_use.rename(columns={'ActivityDate': 'DaysUsed'})"
   ]
  },
  {
   "cell_type": "code",
   "execution_count": 229,
   "id": "65d7152e",
   "metadata": {},
   "outputs": [
    {
     "data": {
      "text/html": [
       "<div>\n",
       "<style scoped>\n",
       "    .dataframe tbody tr th:only-of-type {\n",
       "        vertical-align: middle;\n",
       "    }\n",
       "\n",
       "    .dataframe tbody tr th {\n",
       "        vertical-align: top;\n",
       "    }\n",
       "\n",
       "    .dataframe thead th {\n",
       "        text-align: right;\n",
       "    }\n",
       "</style>\n",
       "<table border=\"1\" class=\"dataframe\">\n",
       "  <thead>\n",
       "    <tr style=\"text-align: right;\">\n",
       "      <th></th>\n",
       "      <th>Id</th>\n",
       "      <th>DaysUsed</th>\n",
       "      <th>Usage</th>\n",
       "    </tr>\n",
       "  </thead>\n",
       "  <tbody>\n",
       "    <tr>\n",
       "      <th>0</th>\n",
       "      <td>1503960366</td>\n",
       "      <td>30</td>\n",
       "      <td>High Use</td>\n",
       "    </tr>\n",
       "    <tr>\n",
       "      <th>1</th>\n",
       "      <td>1624580081</td>\n",
       "      <td>31</td>\n",
       "      <td>High Use</td>\n",
       "    </tr>\n",
       "    <tr>\n",
       "      <th>2</th>\n",
       "      <td>1644430081</td>\n",
       "      <td>30</td>\n",
       "      <td>High Use</td>\n",
       "    </tr>\n",
       "  </tbody>\n",
       "</table>\n",
       "</div>"
      ],
      "text/plain": [
       "           Id  DaysUsed     Usage\n",
       "0  1503960366        30  High Use\n",
       "1  1624580081        31  High Use\n",
       "2  1644430081        30  High Use"
      ]
     },
     "execution_count": 229,
     "metadata": {},
     "output_type": "execute_result"
    }
   ],
   "source": [
    "daily_use.head(3)"
   ]
  },
  {
   "cell_type": "code",
   "execution_count": 241,
   "id": "130eaecf",
   "metadata": {},
   "outputs": [
    {
     "data": {
      "text/html": [
       "<div>\n",
       "<style scoped>\n",
       "    .dataframe tbody tr th:only-of-type {\n",
       "        vertical-align: middle;\n",
       "    }\n",
       "\n",
       "    .dataframe tbody tr th {\n",
       "        vertical-align: top;\n",
       "    }\n",
       "\n",
       "    .dataframe thead th {\n",
       "        text-align: right;\n",
       "    }\n",
       "</style>\n",
       "<table border=\"1\" class=\"dataframe\">\n",
       "  <thead>\n",
       "    <tr style=\"text-align: right;\">\n",
       "      <th></th>\n",
       "      <th>Usage</th>\n",
       "      <th>participants</th>\n",
       "      <th>perc</th>\n",
       "    </tr>\n",
       "  </thead>\n",
       "  <tbody>\n",
       "    <tr>\n",
       "      <th>0</th>\n",
       "      <td>Low Use</td>\n",
       "      <td>2</td>\n",
       "      <td>6.06%</td>\n",
       "    </tr>\n",
       "    <tr>\n",
       "      <th>1</th>\n",
       "      <td>Moderate Use</td>\n",
       "      <td>7</td>\n",
       "      <td>21.21%</td>\n",
       "    </tr>\n",
       "    <tr>\n",
       "      <th>2</th>\n",
       "      <td>High Use</td>\n",
       "      <td>24</td>\n",
       "      <td>72.73%</td>\n",
       "    </tr>\n",
       "  </tbody>\n",
       "</table>\n",
       "</div>"
      ],
      "text/plain": [
       "          Usage  participants    perc\n",
       "0       Low Use             2   6.06%\n",
       "1  Moderate Use             7  21.21%\n",
       "2      High Use            24  72.73%"
      ]
     },
     "execution_count": 241,
     "metadata": {},
     "output_type": "execute_result"
    }
   ],
   "source": [
    "# Data transformation to create df that is readable to create a pie chart\n",
    "daily_use2 = daily_activity.merge(daily_use, on='Id', how='left')\n",
    "daily_use2 = daily_use2.groupby('Usage').agg(participants=('Id', 'nunique')).reset_index()\n",
    "daily_use2['perc'] = daily_use2['participants'] / daily_use2['participants'].sum()\n",
    "daily_use2 = daily_use2.sort_values('perc')\n",
    "daily_use2['perc'] = (daily_use2['perc'] * 100).apply(lambda x: '{:.2f}%'.format(x))\n",
    "daily_use2"
   ]
  },
  {
   "cell_type": "code",
   "execution_count": 721,
   "id": "c5826d0c",
   "metadata": {},
   "outputs": [
    {
     "data": {
      "text/plain": [
       "Text(0.5, 1.0, 'Usage Group Distribution')"
      ]
     },
     "execution_count": 721,
     "metadata": {},
     "output_type": "execute_result"
    },
    {
     "data": {
      "image/png": "[encoded data removed]",
      "text/plain": [
       "<Figure size 576x576 with 1 Axes>"
      ]
     },
     "metadata": {},
     "output_type": "display_data"
    }
   ],
   "source": [
    "plt.figure(figsize=(8, 8))\n",
    "plt.pie(daily_use2['participants'], labels=daily_use2['Usage'], colors=sns.color_palette(\"Pastel1\"), autopct='%1.1f%%', startangle=90)\n",
    "plt.legend(title=\"Usage Type\", labels=daily_use2['Usage'], bbox_to_anchor=(1, 0.5), loc='center left', fontsize=12)\n",
    "plt.title(\"Usage Group Distribution\", fontsize=17, fontweight='bold')"
   ]
  },
  {
   "cell_type": "markdown",
   "id": "ccf097d9",
   "metadata": {},
   "source": [
    "- 73% of users who frequently used their devices between 22 - 31 days. This makes up 24 out of 33 participants.\n",
    "\n",
    "- 12% of users who moderately used their devices between 15 - 21 days. This makes up 7 out of 33 participants.\n",
    "\n",
    "- 6% of users who used their devices least frequently between 1- 14 days. This makes up 2 out of 33 participants.\n",
    "\n"
   ]
  },
  {
   "cell_type": "markdown",
   "id": "00ce0c78",
   "metadata": {},
   "source": [
    "The majority of users show a strong inclination to use the device consistently for 22-31 days. This likely indicates a deep understanding of the device's benefits, as wearing it regularly provides valuable insights into their activity patterns and physiological well-being. By maintaining consistent usage, users gain a comprehensive and quantitative understanding of their health habits, which contributes to the device's overall utility in optimizing their lifestyle choices."
   ]
  },
  {
   "cell_type": "markdown",
   "id": "86821487",
   "metadata": {},
   "source": [
    "<br>"
   ]
  },
  {
   "cell_type": "markdown",
   "id": "68173760",
   "metadata": {},
   "source": [
    "#### Average Steps By Usage Group"
   ]
  },
  {
   "cell_type": "code",
   "execution_count": 266,
   "id": "80b18e59",
   "metadata": {},
   "outputs": [],
   "source": [
    "daily_activity_usage = pd.merge(daily_activity, daily_use, on='Id', how='left')\n",
    "\n",
    "daily_activity_usage['Date'] = pd.to_datetime(daily_activity_usage['Date'])\n",
    "daily_activity_usage['Day'] = daily_activity_usage['Date'].dt.strftime('%a')"
   ]
  },
  {
   "cell_type": "code",
   "execution_count": 273,
   "id": "92f8b289",
   "metadata": {},
   "outputs": [
    {
     "data": {
      "text/html": [
       "<div>\n",
       "<style scoped>\n",
       "    .dataframe tbody tr th:only-of-type {\n",
       "        vertical-align: middle;\n",
       "    }\n",
       "\n",
       "    .dataframe tbody tr th {\n",
       "        vertical-align: top;\n",
       "    }\n",
       "\n",
       "    .dataframe thead th {\n",
       "        text-align: right;\n",
       "    }\n",
       "</style>\n",
       "<table border=\"1\" class=\"dataframe\">\n",
       "  <thead>\n",
       "    <tr style=\"text-align: right;\">\n",
       "      <th></th>\n",
       "      <th>Id</th>\n",
       "      <th>Date</th>\n",
       "      <th>TotalSteps</th>\n",
       "      <th>TotalDistance</th>\n",
       "      <th>TrackerDistance</th>\n",
       "      <th>LoggedActivitiesDistance</th>\n",
       "      <th>VeryActiveDistance</th>\n",
       "      <th>ModeratelyActiveDistance</th>\n",
       "      <th>LightActiveDistance</th>\n",
       "      <th>SedentaryActiveDistance</th>\n",
       "      <th>VeryActiveMinutes</th>\n",
       "      <th>FairlyActiveMinutes</th>\n",
       "      <th>LightlyActiveMinutes</th>\n",
       "      <th>SedentaryMinutes</th>\n",
       "      <th>Calories</th>\n",
       "      <th>DaysUsed</th>\n",
       "      <th>Usage</th>\n",
       "      <th>Day</th>\n",
       "      <th>Total_Minutes_Worn</th>\n",
       "      <th>Total_Hours</th>\n",
       "    </tr>\n",
       "  </thead>\n",
       "  <tbody>\n",
       "    <tr>\n",
       "      <th>0</th>\n",
       "      <td>1503960366</td>\n",
       "      <td>2016-04-12</td>\n",
       "      <td>13162</td>\n",
       "      <td>8.50</td>\n",
       "      <td>8.50</td>\n",
       "      <td>0.0</td>\n",
       "      <td>1.88</td>\n",
       "      <td>0.55</td>\n",
       "      <td>6.06</td>\n",
       "      <td>0.0</td>\n",
       "      <td>25</td>\n",
       "      <td>13</td>\n",
       "      <td>328</td>\n",
       "      <td>728</td>\n",
       "      <td>1985</td>\n",
       "      <td>30</td>\n",
       "      <td>High Use</td>\n",
       "      <td>Tue</td>\n",
       "      <td>1094</td>\n",
       "      <td>0 days 18:14:00</td>\n",
       "    </tr>\n",
       "    <tr>\n",
       "      <th>1</th>\n",
       "      <td>1503960366</td>\n",
       "      <td>2016-04-13</td>\n",
       "      <td>10735</td>\n",
       "      <td>6.97</td>\n",
       "      <td>6.97</td>\n",
       "      <td>0.0</td>\n",
       "      <td>1.57</td>\n",
       "      <td>0.69</td>\n",
       "      <td>4.71</td>\n",
       "      <td>0.0</td>\n",
       "      <td>21</td>\n",
       "      <td>19</td>\n",
       "      <td>217</td>\n",
       "      <td>776</td>\n",
       "      <td>1797</td>\n",
       "      <td>30</td>\n",
       "      <td>High Use</td>\n",
       "      <td>Wed</td>\n",
       "      <td>1033</td>\n",
       "      <td>0 days 17:13:00</td>\n",
       "    </tr>\n",
       "    <tr>\n",
       "      <th>2</th>\n",
       "      <td>1503960366</td>\n",
       "      <td>2016-04-14</td>\n",
       "      <td>10460</td>\n",
       "      <td>6.74</td>\n",
       "      <td>6.74</td>\n",
       "      <td>0.0</td>\n",
       "      <td>2.44</td>\n",
       "      <td>0.40</td>\n",
       "      <td>3.91</td>\n",
       "      <td>0.0</td>\n",
       "      <td>30</td>\n",
       "      <td>11</td>\n",
       "      <td>181</td>\n",
       "      <td>1218</td>\n",
       "      <td>1776</td>\n",
       "      <td>30</td>\n",
       "      <td>High Use</td>\n",
       "      <td>Thu</td>\n",
       "      <td>1440</td>\n",
       "      <td>1 days 00:00:00</td>\n",
       "    </tr>\n",
       "  </tbody>\n",
       "</table>\n",
       "</div>"
      ],
      "text/plain": [
       "           Id       Date  TotalSteps  TotalDistance  TrackerDistance  \\\n",
       "0  1503960366 2016-04-12       13162           8.50             8.50   \n",
       "1  1503960366 2016-04-13       10735           6.97             6.97   \n",
       "2  1503960366 2016-04-14       10460           6.74             6.74   \n",
       "\n",
       "   LoggedActivitiesDistance  VeryActiveDistance  ModeratelyActiveDistance  \\\n",
       "0                       0.0                1.88                      0.55   \n",
       "1                       0.0                1.57                      0.69   \n",
       "2                       0.0                2.44                      0.40   \n",
       "\n",
       "   LightActiveDistance  SedentaryActiveDistance  VeryActiveMinutes  \\\n",
       "0                 6.06                      0.0                 25   \n",
       "1                 4.71                      0.0                 21   \n",
       "2                 3.91                      0.0                 30   \n",
       "\n",
       "   FairlyActiveMinutes  LightlyActiveMinutes  SedentaryMinutes  Calories  \\\n",
       "0                   13                   328               728      1985   \n",
       "1                   19                   217               776      1797   \n",
       "2                   11                   181              1218      1776   \n",
       "\n",
       "   DaysUsed     Usage  Day  Total_Minutes_Worn     Total_Hours  \n",
       "0        30  High Use  Tue                1094 0 days 18:14:00  \n",
       "1        30  High Use  Wed                1033 0 days 17:13:00  \n",
       "2        30  High Use  Thu                1440 1 days 00:00:00  "
      ]
     },
     "execution_count": 273,
     "metadata": {},
     "output_type": "execute_result"
    }
   ],
   "source": [
    "daily_activity_usage['Total_Minutes_Worn'] = daily_activity_usage['SedentaryMinutes'] + daily_activity_usage['LightlyActiveMinutes'] + daily_activity_usage['FairlyActiveMinutes'] + daily_activity_usage['VeryActiveMinutes']\n",
    "daily_activity_usage['Total_Hours'] = pd.to_timedelta(daily_activity_usage['Total_Minutes_Worn'] * 60, unit='s')\n",
    "daily_activity_usage.head(3)"
   ]
  },
  {
   "cell_type": "code",
   "execution_count": 279,
   "id": "47f49802",
   "metadata": {},
   "outputs": [
    {
     "data": {
      "text/html": [
       "<div>\n",
       "<style scoped>\n",
       "    .dataframe tbody tr th:only-of-type {\n",
       "        vertical-align: middle;\n",
       "    }\n",
       "\n",
       "    .dataframe tbody tr th {\n",
       "        vertical-align: top;\n",
       "    }\n",
       "\n",
       "    .dataframe thead th {\n",
       "        text-align: right;\n",
       "    }\n",
       "</style>\n",
       "<table border=\"1\" class=\"dataframe\">\n",
       "  <thead>\n",
       "    <tr style=\"text-align: right;\">\n",
       "      <th></th>\n",
       "      <th>Day</th>\n",
       "      <th>Usage</th>\n",
       "      <th>TotalSteps</th>\n",
       "    </tr>\n",
       "  </thead>\n",
       "  <tbody>\n",
       "    <tr>\n",
       "      <th>3</th>\n",
       "      <td>Mon</td>\n",
       "      <td>Low Use</td>\n",
       "      <td>1273.250000</td>\n",
       "    </tr>\n",
       "    <tr>\n",
       "      <th>4</th>\n",
       "      <td>Mon</td>\n",
       "      <td>Moderate Use</td>\n",
       "      <td>3232.571429</td>\n",
       "    </tr>\n",
       "    <tr>\n",
       "      <th>5</th>\n",
       "      <td>Mon</td>\n",
       "      <td>High Use</td>\n",
       "      <td>9060.284211</td>\n",
       "    </tr>\n",
       "    <tr>\n",
       "      <th>17</th>\n",
       "      <td>Tue</td>\n",
       "      <td>High Use</td>\n",
       "      <td>9487.711864</td>\n",
       "    </tr>\n",
       "    <tr>\n",
       "      <th>16</th>\n",
       "      <td>Tue</td>\n",
       "      <td>Moderate Use</td>\n",
       "      <td>3267.000000</td>\n",
       "    </tr>\n",
       "  </tbody>\n",
       "</table>\n",
       "</div>"
      ],
      "text/plain": [
       "    Day         Usage   TotalSteps\n",
       "3   Mon       Low Use  1273.250000\n",
       "4   Mon  Moderate Use  3232.571429\n",
       "5   Mon      High Use  9060.284211\n",
       "17  Tue      High Use  9487.711864\n",
       "16  Tue  Moderate Use  3267.000000"
      ]
     },
     "execution_count": 279,
     "metadata": {},
     "output_type": "execute_result"
    }
   ],
   "source": [
    "steps = daily_activity_usage.groupby(['Day', 'Usage']).agg({'TotalSteps': 'mean'}).reset_index()\n",
    "days_order = ['Mon', 'Tue', 'Wed', 'Thu', 'Fri', 'Sat', 'Sun']\n",
    "steps['Day'] = pd.Categorical(steps['Day'], categories=days_order, ordered=True)\n",
    "steps = steps.sort_values('Day')\n",
    "steps.head()"
   ]
  },
  {
   "cell_type": "markdown",
   "id": "dedf159d",
   "metadata": {},
   "source": [
    "<br>"
   ]
  },
  {
   "cell_type": "code",
   "execution_count": 316,
   "id": "046f7f4a",
   "metadata": {},
   "outputs": [
    {
     "data": {
      "text/plain": [
       "<matplotlib.legend.Legend at 0x208474188e0>"
      ]
     },
     "execution_count": 316,
     "metadata": {},
     "output_type": "execute_result"
    },
    {
     "data": {
      "image/png": "[encoded data removed]",
      "text/plain": [
       "<Figure size 720x432 with 1 Axes>"
      ]
     },
     "metadata": {
      "needs_background": "light"
     },
     "output_type": "display_data"
    }
   ],
   "source": [
    "plt.figure(figsize=(10, 6))\n",
    "sns.boxplot(data=daily_activity_usage, x='Usage', y='TotalSteps', hue='Usage', dodge=False, palette='pastel', linewidth=2.5)\n",
    "plt.ylim(0, 25000)\n",
    "plt.yticks(range(0, 25001, 5000))\n",
    "plt.title(\"Average Steps by Usage Group\", fontsize=16)\n",
    "plt.xlabel('', fontsize=1)\n",
    "plt.ylabel('TotalSteps', fontsize=14)\n",
    "plt.legend(title='Usage', title_fontsize=12, fontsize=10, loc='upper left')"
   ]
  },
  {
   "cell_type": "markdown",
   "id": "667ceaec",
   "metadata": {},
   "source": [
    "- The 'High Use' group has a significant higher average daily step of 9500 steps. Display a very high daily output. They also have a higher daily spread with records of 25k to 35k steps in one day\n",
    "- Among users from 'Low Use' group, median number of steps is close to 0\n",
    "- Among users from 'High Use' group, 75% of users take more than 5300 steps\n"
   ]
  },
  {
   "cell_type": "code",
   "execution_count": 332,
   "id": "ed66f7ea",
   "metadata": {},
   "outputs": [
    {
     "data": {
      "text/html": [
       "<div>\n",
       "<style scoped>\n",
       "    .dataframe tbody tr th:only-of-type {\n",
       "        vertical-align: middle;\n",
       "    }\n",
       "\n",
       "    .dataframe tbody tr th {\n",
       "        vertical-align: top;\n",
       "    }\n",
       "\n",
       "    .dataframe thead th {\n",
       "        text-align: right;\n",
       "    }\n",
       "</style>\n",
       "<table border=\"1\" class=\"dataframe\">\n",
       "  <thead>\n",
       "    <tr style=\"text-align: right;\">\n",
       "      <th></th>\n",
       "      <th>count</th>\n",
       "      <th>mean</th>\n",
       "      <th>std</th>\n",
       "      <th>min</th>\n",
       "      <th>25%</th>\n",
       "      <th>50%</th>\n",
       "      <th>75%</th>\n",
       "      <th>max</th>\n",
       "    </tr>\n",
       "    <tr>\n",
       "      <th>Usage</th>\n",
       "      <th></th>\n",
       "      <th></th>\n",
       "      <th></th>\n",
       "      <th></th>\n",
       "      <th></th>\n",
       "      <th></th>\n",
       "      <th></th>\n",
       "      <th></th>\n",
       "    </tr>\n",
       "  </thead>\n",
       "  <tbody>\n",
       "    <tr>\n",
       "      <th>Low Use</th>\n",
       "      <td>35.0</td>\n",
       "      <td>2446.742857</td>\n",
       "      <td>3303.924853</td>\n",
       "      <td>0.0</td>\n",
       "      <td>0.0</td>\n",
       "      <td>108.0</td>\n",
       "      <td>4526.0</td>\n",
       "      <td>11728.0</td>\n",
       "    </tr>\n",
       "    <tr>\n",
       "      <th>Moderate Use</th>\n",
       "      <td>174.0</td>\n",
       "      <td>3789.655172</td>\n",
       "      <td>3898.600248</td>\n",
       "      <td>0.0</td>\n",
       "      <td>1.0</td>\n",
       "      <td>2622.5</td>\n",
       "      <td>6707.5</td>\n",
       "      <td>22244.0</td>\n",
       "    </tr>\n",
       "    <tr>\n",
       "      <th>High Use</th>\n",
       "      <td>731.0</td>\n",
       "      <td>8802.462380</td>\n",
       "      <td>4795.625931</td>\n",
       "      <td>0.0</td>\n",
       "      <td>5297.0</td>\n",
       "      <td>8585.0</td>\n",
       "      <td>11660.5</td>\n",
       "      <td>36019.0</td>\n",
       "    </tr>\n",
       "  </tbody>\n",
       "</table>\n",
       "</div>"
      ],
      "text/plain": [
       "              count         mean          std  min     25%     50%      75%  \\\n",
       "Usage                                                                         \n",
       "Low Use        35.0  2446.742857  3303.924853  0.0     0.0   108.0   4526.0   \n",
       "Moderate Use  174.0  3789.655172  3898.600248  0.0     1.0  2622.5   6707.5   \n",
       "High Use      731.0  8802.462380  4795.625931  0.0  5297.0  8585.0  11660.5   \n",
       "\n",
       "                  max  \n",
       "Usage                  \n",
       "Low Use       11728.0  \n",
       "Moderate Use  22244.0  \n",
       "High Use      36019.0  "
      ]
     },
     "execution_count": 332,
     "metadata": {},
     "output_type": "execute_result"
    }
   ],
   "source": [
    "daily_activity_usage.groupby('Usage')['TotalSteps'].describe()"
   ]
  },
  {
   "cell_type": "markdown",
   "id": "3f60b57e",
   "metadata": {},
   "source": [
    "<br>"
   ]
  },
  {
   "cell_type": "markdown",
   "id": "656d6745",
   "metadata": {},
   "source": [
    "#### Average steps by day"
   ]
  },
  {
   "cell_type": "code",
   "execution_count": 361,
   "id": "8b2b99fe",
   "metadata": {},
   "outputs": [
    {
     "data": {
      "image/png": "[encoded data removed]",
      "text/plain": [
       "<Figure size 576x432 with 1 Axes>"
      ]
     },
     "metadata": {
      "needs_background": "light"
     },
     "output_type": "display_data"
    }
   ],
   "source": [
    "plt.figure(figsize=(8, 6))\n",
    "plt.bar(steps['Day'], steps['TotalSteps'], color='skyblue', edgecolor='black', width=0.8)\n",
    "plt.xlabel('Day of the Week', fontsize=14)\n",
    "plt.ylabel('Total Steps', fontsize=14)\n",
    "plt.title('Total Steps by Day of the Week', fontsize=16)\n",
    "plt.yticks(fontsize=12)\n",
    "plt.tight_layout()"
   ]
  },
  {
   "cell_type": "markdown",
   "id": "4adf6af5",
   "metadata": {},
   "source": [
    "- The highest step days are Tuesday followed by Saturday and Monday\n",
    "- Unsurprisingly Sunday is the lowest, for many of us this is a rest day"
   ]
  },
  {
   "cell_type": "markdown",
   "id": "44cac7bd",
   "metadata": {},
   "source": [
    "<br>"
   ]
  },
  {
   "cell_type": "markdown",
   "id": "d2dfcc4c",
   "metadata": {},
   "source": [
    "#### Calories Burnt"
   ]
  },
  {
   "cell_type": "code",
   "execution_count": 388,
   "id": "375790f3",
   "metadata": {},
   "outputs": [],
   "source": [
    "calories = daily_activity_usage.groupby('Day')['Calories'].mean().round().reset_index()\n",
    "days_of_week = ['Mon', 'Tue', 'Wed', 'Thu', 'Fri', 'Sat', 'Sun']\n",
    "calories['Day'] = pd.Categorical(calories['Day'], categories=days_of_week, ordered=True)\n",
    "calories = calories.sort_values('Day')"
   ]
  },
  {
   "cell_type": "code",
   "execution_count": 389,
   "id": "0397cd4f",
   "metadata": {},
   "outputs": [
    {
     "data": {
      "image/png": "[encoded data removed]",
      "text/plain": [
       "<Figure size 576x432 with 1 Axes>"
      ]
     },
     "metadata": {
      "needs_background": "light"
     },
     "output_type": "display_data"
    }
   ],
   "source": [
    "plt.figure(figsize=(8, 6))\n",
    "plt.bar(calories['Day'], calories['Calories'], color='lightgreen', edgecolor='black', width=0.8)\n",
    "plt.xlabel('Day of the Week', fontsize=14)\n",
    "plt.ylabel('Calories Burnt', fontsize=14)\n",
    "plt.title('Calories Burnt by Day of the Week', fontsize=16)\n",
    "plt.yticks(fontsize=12)\n",
    "plt.tight_layout()"
   ]
  },
  {
   "cell_type": "markdown",
   "id": "a2c80e50",
   "metadata": {},
   "source": [
    "- Users burn the most calories on Tuesdays"
   ]
  },
  {
   "cell_type": "code",
   "execution_count": 390,
   "id": "a57da35d",
   "metadata": {},
   "outputs": [
    {
     "data": {
      "text/plain": [
       "<matplotlib.legend.Legend at 0x208527993d0>"
      ]
     },
     "execution_count": 390,
     "metadata": {},
     "output_type": "execute_result"
    },
    {
     "data": {
      "image/png": "[encoded data removed]",
      "text/plain": [
       "<Figure size 720x432 with 1 Axes>"
      ]
     },
     "metadata": {
      "needs_background": "light"
     },
     "output_type": "display_data"
    }
   ],
   "source": [
    "plt.figure(figsize=(10, 6))\n",
    "sns.boxplot(data=calories, x='Usage', y='TotalSteps', hue='Usage', dodge=False, palette='pastel', linewidth=2.5)\n",
    "plt.ylim(0, 25000)\n",
    "plt.yticks(range(0, 25001, 5000))\n",
    "plt.title(\"Average Steps by Usage Group\", fontsize=16)\n",
    "plt.xlabel('', fontsize=1)\n",
    "plt.ylabel('TotalSteps', fontsize=14)\n",
    "plt.legend(title='Usage', title_fontsize=12, fontsize=10, loc='upper left')"
   ]
  },
  {
   "cell_type": "markdown",
   "id": "481f8682",
   "metadata": {},
   "source": [
    "1"
   ]
  },
  {
   "cell_type": "markdown",
   "id": "c7e3f1eb",
   "metadata": {},
   "source": [
    "<br>"
   ]
  },
  {
   "cell_type": "markdown",
   "id": "9a6e316a",
   "metadata": {},
   "source": [
    "#### Average Steps by Day"
   ]
  },
  {
   "cell_type": "code",
   "execution_count": 675,
   "id": "20ad127f",
   "metadata": {
    "scrolled": false
   },
   "outputs": [
    {
     "data": {
      "text/plain": [
       "Text(0.5, 1.0, 'Average Hourly Steps by Day and Hour')"
      ]
     },
     "execution_count": 675,
     "metadata": {},
     "output_type": "execute_result"
    },
    {
     "data": {
      "image/png": "[encoded data removed]",
      "text/plain": [
       "<Figure size 1008x576 with 2 Axes>"
      ]
     },
     "metadata": {
      "needs_background": "light"
     },
     "output_type": "display_data"
    }
   ],
   "source": [
    "agg_data = hourlies_df.pivot_table(index='Day_of_Week', columns='Time', values='StepTotal', aggfunc='mean')\n",
    "\n",
    "plt.figure(figsize=(14, 8))\n",
    "sns.heatmap(agg_data, annot=True, fmt=\".0f\", cmap='viridis', linewidths=0.5, linecolor='white', cbar_kws={\"label\": \"Steps\"})\n",
    "plt.xlabel('Time', fontsize=14, fontweight='bold')\n",
    "plt.ylabel('Day', fontsize=14, fontweight='bold')\n",
    "plt.title('Average Hourly Steps by Day and Hour', fontsize=16, fontweight='bold')"
   ]
  },
  {
   "cell_type": "markdown",
   "id": "8a34a1d9",
   "metadata": {},
   "source": [
    "- During the hours from 11 PM to 5 AM, users take significantly fewer steps\n",
    "- On weekends, between 6 AM and 8 AM, users take fewer steps compared to the other days"
   ]
  },
  {
   "cell_type": "code",
   "execution_count": 737,
   "id": "6110fdee",
   "metadata": {},
   "outputs": [
    {
     "data": {
      "text/plain": [
       "(array([ 0,  1,  2,  3,  4,  5,  6,  7,  8,  9, 10, 11, 12, 13, 14, 15, 16,\n",
       "        17, 18, 19, 20, 21, 22, 23]),\n",
       " [Text(0, 0, '00:00:00'),\n",
       "  Text(1, 0, '01:00:00'),\n",
       "  Text(2, 0, '02:00:00'),\n",
       "  Text(3, 0, '03:00:00'),\n",
       "  Text(4, 0, '04:00:00'),\n",
       "  Text(5, 0, '05:00:00'),\n",
       "  Text(6, 0, '06:00:00'),\n",
       "  Text(7, 0, '07:00:00'),\n",
       "  Text(8, 0, '08:00:00'),\n",
       "  Text(9, 0, '09:00:00'),\n",
       "  Text(10, 0, '10:00:00'),\n",
       "  Text(11, 0, '11:00:00'),\n",
       "  Text(12, 0, '12:00:00'),\n",
       "  Text(13, 0, '13:00:00'),\n",
       "  Text(14, 0, '14:00:00'),\n",
       "  Text(15, 0, '15:00:00'),\n",
       "  Text(16, 0, '16:00:00'),\n",
       "  Text(17, 0, '17:00:00'),\n",
       "  Text(18, 0, '18:00:00'),\n",
       "  Text(19, 0, '19:00:00'),\n",
       "  Text(20, 0, '20:00:00'),\n",
       "  Text(21, 0, '21:00:00'),\n",
       "  Text(22, 0, '22:00:00'),\n",
       "  Text(23, 0, '23:00:00')])"
      ]
     },
     "execution_count": 737,
     "metadata": {},
     "output_type": "execute_result"
    },
    {
     "data": {
      "image/png": "[encoded data removed]",
      "text/plain": [
       "<Figure size 720x432 with 1 Axes>"
      ]
     },
     "metadata": {
      "needs_background": "light"
     },
     "output_type": "display_data"
    }
   ],
   "source": [
    "average_steps_per_hour = hourlies_df.groupby('Time')['StepTotal'].mean().reset_index()\n",
    "\n",
    "plt.figure(figsize=(10, 6))\n",
    "sns.barplot(data=average_steps_per_hour, x='Time', y='StepTotal', palette='RdYlBu_r')\n",
    "plt.axhline(y=469, color='red', linestyle='dashed', label='Threshold')\n",
    "plt.title(\"Hourly Steps in a Day\")\n",
    "plt.xlabel(\"Hour\")\n",
    "plt.ylabel(\"Number of Steps\")\n",
    "plt.legend()\n",
    "plt.xticks(rotation=90)"
   ]
  },
  {
   "cell_type": "markdown",
   "id": "0975fcb6",
   "metadata": {},
   "source": [
    "The data suggests that the users are typically active in the afternoon to evening. They reach the average hourly steps* based on the recommended 7,500 daily steps during 1PM to 2 PM and 5 PM to 7 PM.\n",
    "\n",
    "*469 is the baseline for hourly steps calculated by dividing 7,400 with 16 (24 minus 8 to remove the number of hours sleep)"
   ]
  },
  {
   "cell_type": "markdown",
   "id": "4a0ca870",
   "metadata": {},
   "source": [
    "<br>"
   ]
  },
  {
   "cell_type": "markdown",
   "id": "0402bd8e",
   "metadata": {},
   "source": [
    "#### The distribution of sleep duration"
   ]
  },
  {
   "cell_type": "code",
   "execution_count": 680,
   "id": "21904bc3",
   "metadata": {},
   "outputs": [
    {
     "data": {
      "text/plain": [
       "Text(0, 0.5, 'Density')"
      ]
     },
     "execution_count": 680,
     "metadata": {},
     "output_type": "execute_result"
    },
    {
     "data": {
      "image/png": "[encoded data removed]",
      "text/plain": [
       "<Figure size 720x432 with 1 Axes>"
      ]
     },
     "metadata": {
      "needs_background": "light"
     },
     "output_type": "display_data"
    }
   ],
   "source": [
    "plt.figure(figsize=(10, 6))\n",
    "plt.hist(daily_sleep['TotalMinutesAsleep'], bins=range(0, max(daily_sleep['TotalMinutesAsleep']) + 50, 50), alpha=0.2, density=True)\n",
    "sns.kdeplot(daily_sleep['TotalMinutesAsleep'], alpha=0.2, fill=True, color=\"#FF6666\")\n",
    "plt.axvline(daily_sleep['TotalMinutesAsleep'].mean(), color=\"red\", linestyle=\"dashed\")\n",
    "plt.title(\"Total Minutes Asleep\", fontsize=18)\n",
    "plt.xlabel(\"Total Minutes Asleep\", fontsize=14)\n",
    "plt.ylabel(\"Density\", fontsize=14)"
   ]
  },
  {
   "cell_type": "markdown",
   "id": "a5d69c7e",
   "metadata": {},
   "source": [
    "- Sleep time is normally distributed among all participants\n",
    "- The average sleep time is 418 minutes, which means on average, participants have adequate sleep."
   ]
  },
  {
   "cell_type": "markdown",
   "id": "ed11bfe8",
   "metadata": {},
   "source": [
    "<br>"
   ]
  },
  {
   "cell_type": "code",
   "execution_count": 707,
   "id": "0edeeac8",
   "metadata": {},
   "outputs": [],
   "source": [
    "daily_activity['TotalActiveMinutes'] = daily_activity['VeryActiveMinutes'] + daily_activity['FairlyActiveMinutes'] + daily_activity['LightlyActiveMinutes']\n",
    "daily_activity['Date'] = pd.to_datetime(daily_activity['Date'])\n",
    "daily_activity['DayOfWeek'] = daily_activity['Date'].dt.day_name()\n",
    "average_very_active_minutes = daily_activity.groupby('DayOfWeek')['VeryActiveMinutes'].mean().reset_index()\n",
    "\n",
    "average_very_active_minutes['DayOfWeek'] = pd.Categorical(average_very_active_minutes['DayOfWeek'], categories=ordered_days, ordered=True)\n",
    "average_very_active_minutes = average_very_active_minutes.sort_values(by='DayOfWeek')"
   ]
  },
  {
   "cell_type": "code",
   "execution_count": 717,
   "id": "ee2eef7d",
   "metadata": {},
   "outputs": [
    {
     "data": {
      "text/plain": [
       "([0, 1, 2, 3, 4, 5, 6],\n",
       " [Text(0, 0, ''),\n",
       "  Text(0, 0, ''),\n",
       "  Text(0, 0, ''),\n",
       "  Text(0, 0, ''),\n",
       "  Text(0, 0, ''),\n",
       "  Text(0, 0, ''),\n",
       "  Text(0, 0, '')])"
      ]
     },
     "execution_count": 717,
     "metadata": {},
     "output_type": "execute_result"
    },
    {
     "data": {
      "image/png": "[encoded data removed]",
      "text/plain": [
       "<Figure size 720x432 with 1 Axes>"
      ]
     },
     "metadata": {
      "needs_background": "light"
     },
     "output_type": "display_data"
    }
   ],
   "source": [
    "plt.figure(figsize=(10, 6))\n",
    "plt.plot(average_very_active_minutes['DayOfWeek'], average_very_active_minutes['VeryActiveMinutes'], color='#FF69B4')\n",
    "plt.title(\"Average Very Active Minutes by Weekdays\", fontsize=16)\n",
    "plt.xlabel(\"Weekdays\", fontsize=14)\n",
    "plt.ylabel(\"Daily Very Active Minutes\", fontsize=14)\n",
    "\n",
    "for x, y in zip(average_very_active_minutes['DayOfWeek'], average_very_active_minutes['VeryActiveMinutes']):\n",
    "    plt.text(x, y, f\"{round(y, 1)}\", ha='center', va='bottom', fontsize=12)\n",
    "\n",
    "plt.xticks(rotation=30, ha='right', fontsize=12)"
   ]
  },
  {
   "cell_type": "markdown",
   "id": "d6a6c2e6",
   "metadata": {},
   "source": [
    "- Highest activity levels are Mondays and Tuesday\n",
    "- Lowest activity levels are Thurdays and Sundays"
   ]
  },
  {
   "cell_type": "markdown",
   "id": "20b29320",
   "metadata": {},
   "source": [
    "<br>"
   ]
  },
  {
   "cell_type": "markdown",
   "id": "5bf8befc",
   "metadata": {},
   "source": [
    "# Recommendations "
   ]
  },
  {
   "cell_type": "markdown",
   "id": "4cbe5d9b",
   "metadata": {},
   "source": [
    "1. **More than just a sports tracker**\n",
    "\n",
    "Users should be encouraged to use the device more frequently to gain a deeper understanding of their data and receive actionable insights. Investigating why the 'Lower' and 'Moderate Use' groups are not wearing their devices regularly is crucial. It is possible that users perceive the devices as only beneficial during exercise or physical activities. \\\n",
    "To address this, marketing efforts could emphasize the integration of 'wellness' and 'sports' elements, highlighting how the device provides a holistic view of their well-being and lifestyle habits.\n",
    "\n"
   ]
  },
  {
   "cell_type": "markdown",
   "id": "9558c812",
   "metadata": {},
   "source": [
    "2. **Expanding device line-up**\n",
    "\n",
    "Currently, the majority of Bellabeat's products are discrete devices without screens, requiring users to access information through the app rather than directly from the devices. However, a significant 94% of users (Moderate & High Users) wear their devices for more than 15 days per month, using them throughout the day, including during workouts. This presents an exciting opportunity for Bellabeat to introduce a new line of smartwatches with touch screens, specifically designed for 'every day' wear."
   ]
  }
 ],
 "metadata": {
  "kernelspec": {
   "display_name": "Python 3 (ipykernel)",
   "language": "python",
   "name": "python3"
  },
  "language_info": {
   "codemirror_mode": {
    "name": "ipython",
    "version": 3
   },
   "file_extension": ".py",
   "mimetype": "text/x-python",
   "name": "python",
   "nbconvert_exporter": "python",
   "pygments_lexer": "ipython3",
   "version": "3.9.12"
  }
 },
 "nbformat": 4,
 "nbformat_minor": 5
}
